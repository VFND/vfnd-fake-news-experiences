{
 "cells": [
  {
   "cell_type": "markdown",
   "metadata": {},
   "source": [
    "# Tiền xử lý dữ liệu\n",
    "\n",
    "Mục tiêu: chúng ta load được các dữ liệu từ các file JSON, sau đó sẽ loại bỏ:\n",
    "1. Cleaning: Loại bỏ các dấu câu đã được chuyển thành NCR (numeric character reference)\n",
    "2. Tokenizer -> sau đó loại bỏ Stopwords\n",
    "3. \\[Optional\\] Chuyển từ viết tắt thành từ đầy đủ\n"
   ]
  },
  {
   "cell_type": "code",
   "execution_count": 6,
   "metadata": {},
   "outputs": [],
   "source": [
    "import os,json\n",
    "import pandas as pd\n",
    "\n",
    "import unicodedata as ud\n",
    "import sys\n",
    "\n",
    "import html"
   ]
  },
  {
   "cell_type": "markdown",
   "metadata": {},
   "source": [
    "_json&#95;files_: List chứa các file JSON trong data\n"
   ]
  },
  {
   "cell_type": "code",
   "execution_count": 2,
   "metadata": {},
   "outputs": [],
   "source": [
    "path_to_news = \"Data/\"\n",
    "json_files = [pos_json for pos_json in os.listdir(path_to_news) if pos_json.endswith('.json')]"
   ]
  },
  {
   "cell_type": "code",
   "execution_count": 3,
   "metadata": {},
   "outputs": [
    {
     "name": "stdout",
     "output_type": "stream",
     "text": [
      "['real_1.json', 'fake_1.json']\n"
     ]
    }
   ],
   "source": [
    "print(json_files)"
   ]
  },
  {
   "cell_type": "markdown",
   "metadata": {},
   "source": [
    "Tạo dataframe bằng [pandas.DataFrame](http://pandas-docs.github.io/pandas-docs-travis/generated/pandas.Series.loc.html) để có thể lưu các thuộc tính load từ các file JSON đã được load ở trên"
   ]
  },
  {
   "cell_type": "code",
   "execution_count": 4,
   "metadata": {},
   "outputs": [],
   "source": [
    "news = pd.DataFrame(columns=['title', 'text', 'authors'])"
   ]
  },
  {
   "cell_type": "markdown",
   "metadata": {},
   "source": [
    "Load dữ liệu từ các file JSON vào list news theo các thuộc tính: _title_, _text_ và _authors_"
   ]
  },
  {
   "cell_type": "code",
   "execution_count": 5,
   "metadata": {},
   "outputs": [],
   "source": [
    "for index, js in enumerate(json_files):\n",
    "    with open(os.path.join(path_to_news, js), 'r', encoding='utf-8') as json_file:\n",
    "        json_text = json.load(json_file)\n",
    "        \n",
    "        \n",
    "        title = json_text['title']\n",
    "        text = json_text['text']\n",
    "        author = json_text['authors']\n",
    "        \n",
    "        news.loc[index] = [title, text, author]"
   ]
  },
  {
   "cell_type": "markdown",
   "metadata": {},
   "source": [
    "## 1. Loại bỏ dấu câu (Punctuation)\n",
    "\n",
    "Trong dữ liệu sau khi được crawl về, các ký tự đặc biệt (ví dụ các dấu câu) sẽ được đổi thành dạng [numeric character reference (ncr)](https://en.wikipedia.org/wiki/Numeric_character_reference). Ví dụ như: Trong file _real&#95;1.json_ phần title (ở bên dưới). \n",
    "\n",
    "Chúng ta phải đổi lại dưới dạng Unicode để có thể loại bỏ phần dấu câu. \n",
    "\n",
    "_html.unescape(str)_: đổi các kí tự dạng __ncr__ về định dạng Unicode của chúng\n",
    "\n",
    "Tham khảo [stackoverflow](https://stackoverflow.com/a/17018874/5144980)"
   ]
  },
  {
   "cell_type": "code",
   "execution_count": 6,
   "metadata": {},
   "outputs": [],
   "source": [
    "title_str = news.loc[0]['title']\n",
    "\n",
    "title_str = html.unescape(title_str)"
   ]
  },
  {
   "cell_type": "markdown",
   "metadata": {},
   "source": [
    "_remove&#95;punc_: hàm dùng để loại bỏ các kí tự đặc biệt như dấu câu trong định dạng Unicode. Tham khảo: "
   ]
  },
  {
   "cell_type": "code",
   "execution_count": 7,
   "metadata": {},
   "outputs": [],
   "source": [
    "tbl = dict.fromkeys(i for i in range(sys.maxunicode)\n",
    "                       if ud.category(chr(i)).startswith('P'))\n",
    "\n",
    "def remove_punc(text):\n",
    "    return text.translate(tbl)"
   ]
  },
  {
   "cell_type": "markdown",
   "metadata": {},
   "source": [
    "__Ví dụ:__ Title của _real&#95;1.json_ "
   ]
  },
  {
   "cell_type": "code",
   "execution_count": 8,
   "metadata": {},
   "outputs": [
    {
     "name": "stdout",
     "output_type": "stream",
     "text": [
      "Tung tin 'Mr Bean' qua đời để phát tán virus độc hại\n"
     ]
    }
   ],
   "source": [
    "print(title_str)"
   ]
  },
  {
   "cell_type": "markdown",
   "metadata": {},
   "source": [
    "Title của _real&#95;1.json_ sau khi loại bỏ kí tự đặc biệt: "
   ]
  },
  {
   "cell_type": "code",
   "execution_count": 9,
   "metadata": {},
   "outputs": [
    {
     "name": "stdout",
     "output_type": "stream",
     "text": [
      "Tung tin Mr Bean qua đời để phát tán virus độc hại\n"
     ]
    }
   ],
   "source": [
    "new_string = remove_punc(title_str)\n",
    "print(new_string)"
   ]
  },
  {
   "cell_type": "markdown",
   "metadata": {},
   "source": [
    "### Solution\n",
    "\n",
    "Bắt đầu xử lý các dữ liệu trong list các file JSON và lưu trong list ___preproc&#95;news___:"
   ]
  },
  {
   "cell_type": "code",
   "execution_count": 10,
   "metadata": {
    "scrolled": true
   },
   "outputs": [
    {
     "name": "stdout",
     "output_type": "stream",
     "text": [
      "Hôm 197 nhiều độc giả cảnh báo nhau trên mạng về một loại virus máy tính phát tán qua tin giả Mr Bean  Rowan Atkinson qua đời mạo danh Fox News\n",
      "\n",
      "Thông tin lan truyền cách đây ít phút trên mạng xã hội Theo trang SDE các đối tượng phát tán những bài đăng giả trên mạng xã hội với hình thức như một đường link tin tức tiêu đề là Tin nóng của Fox News Mr Bean Rowan Atkinson vừa qua đời ở tuổi 62 sau một vụ đâm xe trong lúc đóng cảnh hành động mạo hiểm Hôm nay tháng 72017\n",
      "Tung tin Mr Bean qua doi de phat tan virus doc hai hinh anh 1\n",
      "Tin cải chính về cái chết của Rowan Atkinson được đưa ra kịp thời để bảo vệ người dùng khỏi virus Ảnh Chronicle Live \n",
      "\n",
      "Vì gắn với một cơ quan truyền thông lớn là Fox News nên mẩu tin dễ dàng thu hút sự chú ý và tin cậy của độc giả dù thông tin ngày tháng bị sai lệch Trang SDE cảnh báo bất cứ độc giả nào nhìn thấy đường link chứa thông tin này không được bấm vào vì thực chất đó là một virus đội lốt\n",
      "\n",
      "Đường link sẽ dẫn thẳng đến một trang web lừa đảo và mã độc nhảy vào máy tính của người truy cập\n",
      "\n",
      "Đây không phải lần đầu tiên Rowan Atkinson trở thành nạn nhân của tin đồn qua đời Trước đây vào năm 2016 và tháng 3 năm nay từng có một loạt bài thất thiệt khẳng định tài tử Johnny English đã tử vong trong một tai nạn xe ở Los Angeles\n",
      "\n",
      "Thông tin về các ngôi sao qua đời cũng thường xuyên được làm giả để lan truyền virus độc hại Trang web Hoax Slayer đã thống kê hầu hết trường hợp tương tự để cảnh báo độc giả\n",
      "Tung tin Mr Bean qua doi de phat tan virus doc hai hinh anh 2\n",
      "Rất nhiều người nổi tiếng bị kẻ gian tung tin qua đời vì mục đích xấu Ảnh CNN\n",
      "\n",
      "Những tin giả này thường dẫn người dùng đến các trang web cảnh báo máy tính đã bị xâm nhập và yêu cầu người dùng gọi đến số điện thoại hỗ trợ Nhưng khi họ gọi đến những kẻ lừa đảo sẽ thu thập thông tin tài khoản ngân hàng của họ với mục đích thanh toán tiền sửa chữa máy tính hoặc tải phần mềm bảo vệ máy\n",
      "\n",
      "Thực chất đó là các phần mềm kiểm soát máy tính và ăn cắp dữ liệu cài mã độc từ xa\n"
     ]
    }
   ],
   "source": [
    "preproc_news = pd.DataFrame(columns=['title', 'text', 'authors'])\n",
    "\n",
    "for index, js in enumerate(json_files):\n",
    "    with open(os.path.join(path_to_news, js), 'r', encoding='utf-8') as json_file:\n",
    "        json_text = json.load(json_file)\n",
    "        \n",
    "        \n",
    "        title = remove_punc(html.unescape(json_text['title']))\n",
    "        text = remove_punc(html.unescape(json_text['text']))\n",
    "        author = json_text['authors']\n",
    "        \n",
    "        preproc_news.loc[index] = [title, text, author]\n",
    "        \n",
    "print(preproc_news.loc[0].text)"
   ]
  },
  {
   "cell_type": "markdown",
   "metadata": {},
   "source": [
    "## 2. Tokenizer & Loại StopWords"
   ]
  },
  {
   "cell_type": "markdown",
   "metadata": {},
   "source": [
    "Trước hết cần biểu diễn token sau đó loại bỏ đi các stopword\n",
    "\n",
    "Dữ liệu từ điển được lấy từ (các file được chứa trong thư mục ./corpus):\n",
    "1. [deepai-solutions/core_nlp](https://github.com/deepai-solutions/core_nlp/tree/master/tokenization): 2 file _bi_\\__gram.txt_ và _tri_\\__gram.txt_"
   ]
  },
  {
   "cell_type": "markdown",
   "metadata": {},
   "source": [
    "### 2.1. Cách 1: Sử dụng so khớp dài nhất \n",
    "\n",
    "Sử dụng so khớp dài nhất (longest matching) để tách các từ trong  tin tức vừa loại dấu câu"
   ]
  },
  {
   "cell_type": "code",
   "execution_count": 9,
   "metadata": {},
   "outputs": [],
   "source": [
    "import ast\n",
    "import re #Regular Expression"
   ]
  },
  {
   "cell_type": "markdown",
   "metadata": {},
   "source": [
    "_load_\\__n_\\__gram_: hàm đọc dữ liệu trong các corpus và đưa vào  chương trình với kiểu dữ liệu là ___Sets___\n",
    "\n",
    "ast.literal_eval()"
   ]
  },
  {
   "cell_type": "code",
   "execution_count": 10,
   "metadata": {},
   "outputs": [],
   "source": [
    "def load_n_gram(file_path):\n",
    "    with open(file_path, encoding='utf-8') as n_gram:\n",
    "        words = n_gram.read()\n",
    "        print(words)\n",
    "        words = ast.literal_eval(words)\n",
    "        print(words)\n",
    "        return words"
   ]
  },
  {
   "cell_type": "markdown",
   "metadata": {},
   "source": [
    "Đường dẫn đến __corpus__ và tên các file corpus."
   ]
  },
  {
   "cell_type": "code",
   "execution_count": 11,
   "metadata": {},
   "outputs": [],
   "source": [
    "corpus_path = './corpus/'\n",
    "bi_gram_path = 'bi_gram.txt'\n",
    "tri_gram_path = 'tri_gram.txt'"
   ]
  },
  {
   "cell_type": "markdown",
   "metadata": {},
   "source": [
    "_bi_\\__gram_ và _tri_\\__gram_ là các tập dữ liệu từ các corpus của chúng ta. Ở đoạn kế tiếp chúng ta có thể thấy số lượng phần tử các corpus"
   ]
  },
  {
   "cell_type": "code",
   "execution_count": 12,
   "metadata": {},
   "outputs": [
    {
     "name": "stdout",
     "output_type": "stream",
     "text": [
      "{'đen lay láy', 'phó văn phòng', 'phó tiến sĩ', 'dài đuồn đuỗn', 'lãnh sự quán', 'kí túc xá', 'keo tai tượng', 'bom từ trường', 'cực chẳng đã', 'giày bát kết', 'ngắn tun hủn', 'quốc tế ca', 'hoa mép dê', 'tẻo tèo teo', 'óc bã đậu', 'Tết Nguyên Đán', 'góc kề bù', 'kim loại đen', 'tiểu đoàn trưởng', 'chữ thập đỏ', 'từ đồng nghĩa', 'báo vụ viên', 'sóng vô tuyến', 'luật dân sự', 'thượng nghị viện', 'dạ lá sách', 'phép biện chứng', 'lí tưởng hoá', 'điều kiện cần', 'gọn thon lỏn', 'sách công cụ', 'bấm ra sữa', 'bất thình lình', 'cá thia thia', 'cân đồng hồ', 'thợ thủ công', 'điện khí hoá', 'kim anh tử', 'tuyên bố chung', 'Hệ Mặt Trời', 'cổ tự học', 'gì thì gì', 'bom bươm bướm', 'đới địa lý', 'quan trọng hoá', 'phản giáo dục', 'đại nguyên soái', 'đa phương tiện', 'điện tử học', 'vô thần luận', 'kĩ thuật số', 'trần trùi trụi', 'hiện tượng luận', 'bán bình nguyên', 'hò mái đẩy', 'xốp xồm xộp', 'tiền định luận', 'khoáng vật học', 'cầu thang máy', 'máy hút bụi', 'cầu thăng bằng', 'cười sằng sặc', 'mát rười rượi', 'địa vật lý', 'hình học Euclid', 'khách qua đường', 'nổi tam bành', 'tập thể hoá', 'cà dái dê', 'nông trang viên', 'mít tố nữ', 'máy chiếu hình', 'cờ chân chó', 'dài dằng dặc', 'vô giáo dục', 'đột phá khẩu', 'dạ lí hương', 'nước gội đầu', 'thước tỷ lệ', 'lí sự cùn', 'hắc tinh tinh', 'thượng hảo hạng', 'óc bè phái', 'cá rô phi', 'cung phản xạ', 'bóng nửa tối', 'dạ dày tuyến', 'hạ nghị viện', 'chủ tài khoản', 'thư ký riêng', 'cân tự động', 'tranh khảm màu', 'hoa mười giờ', 'siêu ngôn ngữ', 'tên cúng cơm', 'đại bản doanh', 'bộ khuếch đại', 'điện từ học', 'tàu khu trục', 'của đáng tội', 'vườn bách thú', 'búng ra sữa', 'chắc nình nịch', 'đèn bán dẫn', 'quyền tác giả', 'mặt trái xoan', 'thực chứng luận', 'khu công nghiệp', 'áo đại cán', 'khổ một nỗi', 'cảnh đặc tả', 'bom nguyên tử', 'bất tín nhiệm', 'khăn quàng đỏ', 'bán sơn địa', 'đông bán cầu', 'nhu yếu phẩm', 'trắc bách diệp', 'cà độc dược', 'quỹ tín dụng', 'số nguyên tố', 'ma ăn cỗ', 'phó thường dân', 'bạn trăm năm', 'phép hài thanh', 'tam giác cân', 'tổng dự toán', 'vẹc bông lau', 'dạ tổ ong', 'giày ba ta', 'tiểu tư sản', 'hợp tác hoá', 'sư hổ mang', 'mộng âm dương', 'đường đồng mức', 'đĩa quang học', 'thép hợp kim', 'van an toàn', 'hà thủ ô', 'chè hạt lựu', 'nhà tu kín', 'chia để trị', 'bệnh lí học', 'thuế doanh thu', 'than tổ ong', 'đa xử lí', 'máy liên hợp', 'sinh vật học', 'bộ tư lệnh', 'cối chày đạp', 'giờ hành chính', 'hạt cơ bản', 'con chiên ghẻ', 'tranh sơn thuỷ', 'sổ hộ khẩu', 'tập hợp con', 'bản thể luận', 'thạch xương bồ', 'đánh vận động', 'ngặt một nỗi', 'chiến tranh lạnh', 'chất bán dẫn', 'sao Bắc Đẩu', 'nhà thi đấu', 'cổ lai hy', 'hình tam giác', 'chính trị học', 'nghiên cứu sinh', 'siêu vi trùng', 'bất ổn định', 'cảng hàng không', 'bào chế học', 'nội tiết tố', 'khăn mỏ quạ', 'kinh tế học', 'da bọc xương', 'dạ dày cơ', 'trung bình nhân', 'pháo tự hành', 'giấy trang kim', 'đoàn ngoại giao', 'xếp bằng tròn', 'quạt con cóc', 'tuyến tiền liệt', 'cây lau nhà', 'số bị nhân', 'cầu truyền hình', 'góc học tập', 'tỷ lệ nghịch', 'trường giáo dưỡng', 'tơ hoá học', 'băng vệ sinh', 'bần cùng hoá', 'công nghiệp nặng', 'cưới chạy tang', 'công trình phụ', 'ban bí thư', 'xương quai xanh', 'bé hạt tiêu', 'nhà vệ sinh', 'bạch mao căn', 'quốc tế ngữ', 'rất chi là', 'cờ lông công', 'xe cải tiến', 'trống hông hốc', 'đại đoàn kết', 'tháng âm lịch', 'chất bôi trơn', 'ong bò vẽ', 'ngữ nghĩa học', 'vô thiên lủng', 'sốt xuất huyết', 'tiểu tuần hoàn', 'mìn định hướng', 'dài thườn thượt', 'chạy dai sức', 'số chính phương', 'đại tư bản', 'dầu cù là', 'đánh đàng xa', 'đơn tử diệp', 'phim con heo', 'sán xơ mít', 'bom hoá học', 'rét nàng Bân', 'tươi roi rói', 'cá lành canh', 'cổ địa lí', 'thập tự chinh', 'động cơ điện', 'thìa cà phê', 'tàu tuần tiễu', 'bất hợp lệ', 'quốc hữu hoá', 'cây thân cỏ', 'sâu đục thân', 'phéc mơ tuya', 'điều kiện đủ', 'tổ dân phố', 'thuyết tiền định', 'không mấy khi', 'tiền hôn nhân', 'nam sài hồ', 'giấy chứng minh', 'chân giá trị', 'tràn cung mây', 'bóng bầu dục', 'vòng tránh thai', 'đấu giao hữu', 'cỏ mần trầu', 'lời toà soạn', 'nhiệt độ Celsius', 'chiêm tinh học', 'an toàn khu', 'tin học hoá', 'đái tháo đường', 'toàn cầu hoá', 'đại gia súc', 'tản thực vật', 'chín tầng mây', 'tính nhân quả', 'giấy vệ sinh', 'ăn phải đũa', 'mặt đối mặt', 'năm dương lịch', 'đại tuần hoàn', 'máy hơi nước', 'đường xoáy ốc', 'động cơ diesel', 'chính trị viên', 'trơ thổ địa', 'vật linh giáo', 'khải hoàn môn', 'ngữ pháp học', 'bom nổ chậm', 'tâm lý học', 'con nhà lành', 'quạt thông gió', 'tôm càng xanh', 'phim đèn chiếu', 'tiểu gia súc', 'mục sở thị', 'tinh thể lỏng', 'lý tưởng hoá', 'bản đồ học', 'lúm đồng tiền', 'tổng thư ký', 'chân vòng kiềng', 'điêu khắc gia', 'lò vi sóng', 'vô kỉ luật', 'thư chuyển tiền', 'tâm sinh lý', 'ca ra bộ', 'bắn tốc độ', 'trời có mắt', 'đường trắc địa', 'vườn bách thảo', 'luật bằng trắc', 'nhảy cà tửng', 'vô tích sự', 'thổ nhưỡng học', 'rừng đặc dụng', 'quạt tai voi', 'dịch tễ học', 'trại cải tạo', 'tự phục vụ', 'cá lòng tong', 'cổ lỗ sĩ', 'kim chỉ nam', 'mô hình hoá', 'địa vật lí', 'thống kê học', 'tiểu thủ công', 'thi trắc nghiệm', 'tủ chữa cháy', 'hợp thức hoá', 'đất cát pha', 'ảo thuật gia', 'vô thừa nhận', 'nam bán cầu', 'nhà chọc trời', 'hái ra tiền', 'súng tự động', 'cánh kiến đỏ', 'bệnh lý học', 'máy chiếu phim', 'xe gắn máy', 'bất hợp tác', 'dấu gạch ngang', 'cá lưỡng tiêm', 'du học sinh', 'bàn là hơi', 'vô liêm sỉ', 'đen nghìn nghịt', 'lưỡi không xương', 'trắc địa học', 'kênh truyền hình', 'đông nghìn nghịt', 'kín như bưng', 'tạp phí lù', 'chè móc câu', 'phòng thí nghiệm', 'văn phòng phẩm', 'mĩ nhân kế', 'tiểu quy mô', 'tổng khủng hoảng', 'vườn địa đàng', 'đánh bò cạp', 'kính thiên văn', 'tội gì mà', 'biệt động quân', 'cấp số cộng', 'danh từ chung', 'thể nhiễm sắc', 'sờ lên gáy', 'hợp lý hoá', 'bất khả thi', 'nhận thức luận', 'ước số chung', 'ngay tức khắc', 'máy ghi âm', 'quạt treo tường', 'công ty con', 'dao động đồ', 'hội ái hữu', 'lơ tơ mơ', 'đánh chính diện', 'kim nam châm', 'cảm giác luận', 'cá thờn bơn', 'bách khoa thư', 'văn bản học', 'bạch huyết bào', 'vòng nguyệt quế', 'chuyển động đều', 'âm vị học', 'mùi mẽ gì', 'dân số học', 'máy nhắn tin', 'chính trị phạm', 'tia vũ trụ', 'điển hình hoá', 'tỉ lệ thuận', 'văn hoá phẩm', 'lạc quan tếu', 'ma cà bông', 'đa phương hoá', 'phân tâm học', 'khô dầu lá', 'tổng biên tập', 'đường gấp khúc', 'bán nguyệt san', 'dẻo quèo quẹo', 'tóp tòm tọp', 'chả mấy khi', 'nhạc thính phòng', 'đại hồng thuỷ', 'tổng liên đoàn', 'cối xay gió', 'sao Thiên Vương', 'giấy bóng kính', 'gỏi sinh cầm', 'thuế gián thu', 'chết đầu nước', 'tôn giáo học', 'mạng diện rộng', 'nghiên cứu viên', 'đánh trận địa', 'sửa chữa vừa', 'đoạn toa xe', 'phim thời sự', 'sinh thái học', 'ớt cà chua', 'hợp pháp hoá', 'tia tử ngoại', 'xe lăn đường', 'ngũ gia bì', 'khán thính giả', 'cổ sinh vật', 'sở giao dịch', 'cơm bình dân', 'đường vành đai', 'múa rối nước', 'tái sản xuất', 'trắng lôm lốp', 'hăng tiết vịt', 'tỷ lệ thuận', 'phim hoạt hình', 'tổng tham mưu', 'bất phương trình', 'giờ địa phương', 'thế giới quan', 'ô tô buýt', 'ăn trả bữa', 'chính quy hoá', 'tuần trăng mật', 'đay ấn Độ', 'ngôn ngữ học', 'hệ điều hành', 'âm cơ bản', 'kinh tuyến gốc', 'máy công cụ', 'ruộng bậc thang', 'ngón áp út', 'chim đầu đàn', 'tổng giám mục', 'năm ánh sáng', 'thuyết thần bí', 'thư bảo đảm', 'sít sìn sịt', 'đường hàng hải', 'cụt thun lủn', 'độc thần luận', 'bụng bảo dạ', 'công nghệ xanh', 'chủ nghĩa Marx', 'máy vi tính', 'bán trả góp', 'siêu liên kết', 'pháo đài bay', 'nhiệt lượng kế', 'cuộn sơ cấp', 'quyết tâm thư', 'hành tá tràng', 'nắm đằng chuôi', 'kế hoạch hoá', 'ngựa bất kham', 'vật lý học', 'tiền sử học', 'phim truyền hình', 'hợp kim màu', 'dấu chấm than', 'luyện kim màu', 'uỷ nhiệm thư', 'đánh thọc sâu', 'đạo Tin Lành', 'thuyết hữu thần', 'thổ phục linh', 'nhân dân tệ', 'phim tài liệu', 'dạ lan hương', 'đánh tung thâm', 'bán tự động', 'ăn hối lộ', 'đài truyền hình', 'tiểu thuỷ nông', 'chính trị gia', 'từ điển học', 'nhanh nhẩu đoảng', 'cổ động viên', 'tâm lí học', 'chi uỷ viên', 'cũng quá tội', 'tam thập lục', 'bở hơi tai', 'số siêu việt', 'dây kẽm gai', 'đi bước nữa', 'cây ăn quả', 'hào giao thông', 'chủ sở hữu', 'xa vời vợi', 'gan cóc tía', 'thông cáo chung', 'chữ quốc ngữ', 'lạnh như tiền', 'hồ ly tinh', 'nhà kinh doanh', 'bái vật giáo', 'đồng tác giả', 'siêu hình học', 'định lí đảo', 'kẹo cao su', 'bón đón đòng', 'phó giáo sư', 'hình cầu phân', 'Thái Dương Hệ', 'bắt nhân tình', 'đường hàng không', 'ngay tắp lự', 'cá da trơn', 'cỏ sâu róm', 'tỷ lệ thức', 'bao cao su', 'hệ tư tưởng', 'tâm thần học', 'tính đồng nhất', 'thẻ tín dụng', 'dầu bạc hà', 'vết xe đổ', 'vô kỷ luật', 'đèn cao áp', 'ra cái điều', 'lỗ châu mai', 'văn học sử', 'long diên hương', 'phân hoá học', 'bồ công anh', 'phải cái tội', 'việc đã rồi', 'to tổ bố', 'kí sinh trùng', 'bắc cực quyền', 'vô kỳ hạn', 'cốt khí muồng', 'thời gian biểu', 'địa cốt bì', 'đánh trống lảng', 'dựng tóc gáy', 'phản khoa học', 'địa lí học', 'cầu thang cuốn', 'giải phẫu học', 'sạch nước cản', 'chớ có trách', 'đèn kéo quân', 'bạch đầu quân', 'cân tiểu li', 'nhà xuất bản', 'điện báo viên', 'công nghệ học', 'quỹ tiết kiệm', 'tập đại thành', 'công ty mẹ', 'đá nam châm', 'ban chấp hành', 'độ chính xác', 'cây lâu năm', 'biên tập viên', 'diện tích phụ', 'tổng bãi công', 'không bờ bến', 'sao Diêm Vương', 'nổi đình đám', 'trắc địa mỏ', 'công đoàn vàng', 'tranh khắc gỗ', 'năm âm lịch', 'chung quy lại', 'cặp bài trùng', 'tái vũ trang', 'dấu chấm hỏi', 'biểu thống kê', 'hình không gian', 'xe cơ giới', 'thuốc sát trùng', 'chim thầy bói', 'nhảy chân sáo', 'lưu học sinh', 'đi đại tiện', 'tiểu sản xuất', 'cai đầu dài', 'cao hổ cốt', 'pháo cao xạ', 'thảm thực vật', 'địa hoá học', 'hạ nghị sĩ', 'cây ăn trái', 'sứ vệ sinh', 'cổ lai hi', 'sửa chữa lớn', 'cú pháp học', 'đại cà sa', 'hình nón cụt', 'nước mắm nhỉ', 'béo nung núc', 'liệu thần hồn', 'tĩnh điện kế', 'máy điện tim', 'có bề gì', 'Tết dương lịch', 'bán nguyên âm', 'công nghệ phẩm', 'phòng khánh tiết', 'sửa chữa nhỏ', 'sư tử biển', 'đường phân giác', 'biết chừng nào', 'huyện uỷ viên', 'hoa loa kèn', 'duy ý chí', 'tối hậu thư', 'cân móc hàm', 'gương tầy liếp', 'phim hoạt hoạ', 'tổng tấn công', 'tổng tư lệnh', 'bánh ú tro', 'góc đa diện', 'giải phóng quân', 'đường đoản trình', 'cơ giới hoá', 'truyện cổ tích', 'gương tày liếp', 'xin âm dương', 'sổ thiên tào', 'đại số học', 'luyện kim đen', 'chậm rì rì', 'bạn con dì', 'bán trả dần', 'vườn quốc gia', 'mỹ nhân kế', 'bậc tam cấp', 'đường dây nóng', 'nắng xiên khoai', 'đánh công kiên', 'bèo Nhật Bản', 'sách giáo khoa', 'hầm trú ẩn', 'chất xúc tác', 'bội số chung', 'địa chấn ký', 'cách mạng hoá', 'cười vỡ bụng', 'làm dấu thánh', 'lương sản phẩm', 'viện bảo tàng', 'anh hùng rơm', 'càng ngày càng', 'huyết sắc tố', 'luật hình sự', 'mận tam hoa', 'nghề tự do', 'ma nơ canh', 'xe thổ mộ', 'vạn niên thanh', 'hai lá mầm', 'hướng dẫn viên', 'đen nhay nháy', 'khu đô thị', 'pháo thăng thiên', 'luật bài trung', 'bạn nối khố', 'xuất phát điểm', 'thuyết biến hoá', 'hò mái nhì', 'cây nông nghiệp', 'còn phải nói', 'phường bát âm', 'trơ mắt ếch', 'chung chăn gối', 'bạch đậu khấu', 'chỉ huy trưởng', 'dây thần kinh', 'quần lá toạ', 'tuổi hồi xuân', 'đài khí tượng', 'hiệp tác hoá', 'thẳng tuồn tuột', 'máy điều hoà', 'bừa chữ nhi', 'đường xoắn ốc', 'chánh văn phòng', 'mèo tam thể', 'logic hình thức', 'vô hình trung', 'thuyết nhị nguyên', 'nguyên động lực', 'vỡ kế hoạch', 'chiêu đãi viên', 'súng liên thanh', 'kiến trúc sư', 'số tự nhiên', 'củ cải đường', 'xuất bản phẩm', 'loại hình học', 'đi chăng nữa', 'thơ liên hoàn', 'chim thằng chài', 'nhà tình nghĩa', 'cá mè hoa', 'ký sinh trùng', 'ngói âm dương', 'vua phá lưới', 'tổng khởi nghĩa', 'địa chấn kí', 'hộp tốc độ', 'sâu cuốn lá', 'bước nhảy vọt', 'bản mạch chủ', 'thuỷ tinh thể', 'thẳng đuồn đuột', 'dạ múi khế', 'bạch phụ tử', 'đen nhưng nhức', 'hình bầu dục', 'lung tung beng', 'giao thông tĩnh', 'dấu chấm lửng', 'sư đoàn trưởng', 'trắng phau phau', 'nín thin thít', 'đại bộ phận', 'vốn lưu động', 'đài phát thanh', 'hình viên phân', 'tờ mờ đất', 'phản ánh luận', 'sân vận động', 'tươi hơn hớn', 'đoàn chủ tịch', 'bán vũ trang', 'hình tròn xoay', 'hoá sinh học', 'chỉ mỗi tội', 'nói tóm lại', 'anh chị em', 'mặt tròn xoay', 'đánh tiêu diệt', 'vô tổ chức', 'cựu chiến binh', 'danh từ riêng', 'tàu đổ bộ', 'đỏ con mắt', 'kim loại màu', 'sâu cắn gié', 'tiến hoá luận', 'công tử bột', 'đa thần luận', 'đài hoá thân', 'xanh hoà bình', 'hằng đẳng thức', 'gai cột sống', 'lượng giác học', 'chim cánh cụt', 'thảo cầm viên', 'mèo nhị thể', 'hoá mĩ phẩm', 'tiền khởi nghĩa', 'tiếng phổ thông', 'hiện tượng học', 'hình bình hành', 'kỵ binh bay', 'đặc phái viên', 'cá lờn bơn', 'động mạch vành', 'điện tâm đồ', 'đào lộn hột', 'thuyết nhất nguyên', 'cầy bông lau', 'vốn tự có', 'nhân khẩu học', 'tình dục học', 'bất hợp lí', 'hắc xì dầu', 'tất tần tật', 'ký túc xá', 'kim tự tháp', 'tiểu đoàn bộ', 'chất vô cơ', 'ướt sườn sượt', 'phân loại học', 'khuỳnh tay ngai', 'huyết áp cao', 'đánh chim sẻ', 'số hữu tỷ', 'giết thì giờ', 'bơm chân không', 'vô điều kiện', 'nói trắng ra', 'mắt bồ câu', 'thần thánh hoá', 'ngồi dãi thẻ', 'xã hội học', 'thẻ thanh toán', 'bảng tổng sắp', 'đường chim bay', 'chữ thập ngoặc', 'Bà La Môn', 'hắt xì hơi', 'hệ sinh thái', 'cân tiểu ly', 'trời đất ơi', 'đức ông chồng', 'tuốt tuồn tuột', 'vật lí học', 'giấy bao gói', 'bán hoá giá', 'súng phun lửa', 'tâm sinh lí', 'đường tỉnh lộ', 'giấy đánh máy', 'lò luyện kim', 'lập trình viên', 'nhà tạo mẫu', 'gió mùa đông-bắc', 'kế toán trưởng', 'lo sốt vó', 'gấu Bắc Cực', 'trực thăng vận', 'chủ nhân ông', 'thành uỷ viên', 'có bề nào', 'biệt động đội', 'mặt chữ điền', 'tình báo viên', 'vi xử lý', 'đánh trống ngực', 'vô giá trị', 'cá thát lát', 'kìm cộng lực', 'bộ bánh cóc', 'chén hạt mít', 'chè con ong', 'trại tập trung', 'công ti con', 'vô sản hoá', 'tự nhiên học', 'tu nghiệp sinh', 'ngậm hột thị', 'quĩ tiết kiệm', 'thuyết trình viên', 'mẹ đỡ đầu', 'tàu con thoi', 'nhân loại học', 'tranh sơn dầu', 'nồi áp suất', 'tranh sơn mài', 'giấy dó lụa', 'đánh đồng thiếp', 'cao lêu nghêu', 'khí áp kế', 'ngồi chồm hổm', 'dép quai hậu', 'số bị chia', 'cây thân gỗ', 'chầu Diêm Vương', 'tu từ học', 'bệnh bạch cầu', 'cao dong dỏng', 'bất hợp lý', 'khinh khí cầu', 'nói gì đến', 'tam đoạn luận', 'hải dương học', 'thuế thu nhập', 'gà hoa mơ', 'thềm lục địa', 'tổng cục trưởng', 'Mạnh Thường Quân', 'râu quai nón', 'suất điện động', 'đá trầm tích', 'áo vệ sinh', 'thái cực quyền', 'vô tội vạ', 'sinh lý học', 'mạch tích hợp', 'nghị định thư', 'ống tay áo', 'vốn điều lệ', 'bom lân tinh', 'bất thành văn', 'thẳng ruột ngựa', 'duyên kỳ ngộ', 'chè hoa cau', 'đất dụng võ', 'má bánh đúc', 'siêu vi khuẩn', 'tỉ lệ nghịch', 'đánh hào ngầm', 'văn nghệ sĩ', 'kiến tạo học', 'đỏ hoen hoét', 'đá tai mèo', 'im phăng phắc', 'lỗ chân lông', 'quốc tế hoá', 'tính tư tưởng', 'đàn tơ rưng', 'thuyết tương đối', 'a ma tơ', 'số hữu tỉ', 'lời đường mật', 'ròng rọc kép', 'công nghiệp hoá', 'world wide web', 'bia đỡ đạn', 'vận động viên', 'hào chiến đấu', 'tranh hoành tráng', 'áo cà sa', 'biết bao nhiêu', 'cá thia lia', 'sạch sành sanh', 'thiên niên kỉ', 'tổng tiến công', 'thuyết tự sinh', 'vệ quốc quân', 'chẳng mấy khi', 'cha đỡ đầu', 'phát thanh viên', 'đa xử lý', 'quá đi chứ', 'đỏ chon chót', 'bạch đồng nữ', 'giâu gia xoan', 'tổng động viên', 'dửng dừng dưng', 'thuyết duy ngã', 'công nhân viên', 'hăng máu vịt', 'tẩy rửa tiền', 'từ vựng học', 'sinh lí học', 'đảng uỷ viên', 'áo tứ thân', 'song tử diệp', 'mập ú ù', 'người bị hại', 'phi chính phủ', 'đàn thập lục', 'công nghiệp nhẹ', 'hệ miễn dịch', 'độ phân giải', 'cầy móc cua', 'ghe bản lồng', 'phân hữu cơ', 'gia đình trị', 'cơ khí hoá', 'đại sứ quán', 'phi hành gia', 'điện từ trường', 'tính nhân dân', 'trọc lông lốc', 'thép không gỉ', 'cứ cho là', 'đại cử tri', 'địa tầng học', 'huyết áp thấp', 'thước đo góc', 'chủ nghĩa Marx-Lenin', 'nhân chủng học', 'thuyết tiến hoá', 'nồi cơm điện', 'bầu không khí', 'tranh đồ hoạ', 'rừng phòng hộ', 'thảo quyết minh', 'tụ huyết trùng', 'viện kiểm sát', 'căn cứ địa', 'vung tàn tán', 'nhị nguyên luận', 'nhạc tài tử', 'bánh đậu xanh', 'ngẩn tò te', 'chua loen loét', 'hoa mõm chó', 'ngựa phản chủ', 'phép đối xứng', 'tam giác đều', 'kề miệng lỗ', 'công dã tràng', 'nhà tập thể', 'đường cao tốc', 'số bình quân', 'chiến lợi phẩm', 'đạo Cao Đài', 'vòi hoa sen', 'thoát y vũ', 'vi điện tử', 'bánh phồng tôm', 'khu chế xuất', 'vô tuyến điện', 'áo cánh tiên', 'chán mớ đời', 'ốc bươu vàng', 'giá sinh hoạt', 'thẻ ghi nợ', 'đạo Thiên Chúa', 'hi thiêm thảo', 'đại đa số', 'tàu há mồm', 'truỵ tim mạch', 'tổng sản phẩm', 'lính đánh thuê', 'hợp tác xã', 'vô ý thức', 'khách vãng lai', 'dẫn chương trình', 'tối huệ quốc', 'đậu Hà Lan', 'phôi sinh học', 'bạn vong niên', 'thiếu sinh quân', 'cánh tay đòn', 'bình thông nhau', 'đèn khí đá', 'gõ đầu trẻ', 'tổng giám đốc', 'nhiệt độ Fahrenheit', 'ra cái vẻ', 'hoành cách mô', 'toà giám mục', 'nói bóng gió', 'xã hội hoá', 'vốn cố định', 'chúa sơn lâm', 'cửa lá sách', 'khu tự trị', 'siêu hiện thực', 'hình học phẳng', 'vợ chưa cưới', 'chiến tranh nóng', 'cỏ bạc đầu', 'bình nóng lạnh', 'luật hành chính', 'đa chương trình', 'bán thành phẩm', 'bèo lục bình', 'áo trấn thủ', 'lý sự cùn', 'bản in thử', 'bùa cứu mạng', 'nguyên vật liệu', 'trung bình cộng', 'hàng tiêu dùng', 'vung thiên địa', 'đới địa chất', 'câm như hến', 'thuyết nhất thần', 'nhà hộ sinh', 'đa thần giáo', 'đùa với lửa', 'dạ lý hương', 'tàu tuần dương', 'nhân sinh quan', 'tiền khả thi', 'hình thái học', 'vuốt râu hùm', 'bi hài kịch', 'thuyết hỗ trợ', 'y như rằng', 'trang thiết bị', 'may công nghiệp', 'dây tiếp địa', 'nhiễm sắc thể', 'hiệu điện thế', 'đèn huỳnh quang', 'dày cồm cộp', 'máy gia tốc', 'thì chớ kể', 'canh ki na', 'chim báo bão', 'bàn thắng vàng', 'cây phủ đất', 'báo điện tử', 'câm miệng hến', 'tiền liệt tuyến', 'bạch huyết cầu', 'địa mạo học', 'chủ nghĩa dada', 'tóc rễ tre', 'tuyến nội tiết', 'dây nối đất', 'ca la thầu', 'phi hành đoàn', 'bàn thắng bạc', 'nguyên tử số', 'tây bán cầu', 'nhà điều dưỡng', 'lai kinh tế', 'tổng tuyển cử', 'túi du lịch', 'màng tế bào', 'khí hậu học', 'cu gầm ghì', 'cổ phần hoá', 'thuyết nhân quả', 'máy rửa bát', 'thuyết duy thực', 'rát ràn rạt', 'cuống cà kê', 'bệnh tâm thần', 'máy phát điện', 'cao độ kế', 'công trình sư', 'tiểu đội trưởng', 'tính giai cấp', 'lộn mề gà', 'cụm cứ điểm', 'tổng chỉ huy', 'trồng cây chuối', 'cổ tiền học', 'áo lọt lòng', 'đại cao thủ', 'diệp lục tố', 'chuyển động quay', 'nặng trình trịch', 'quần xà lỏn', 'phân vi lượng', 'kị binh bay', 'mã tiên thảo', 'tuần dương hạm', 'bỏ ngoài tai', 'thông tin học', 'thợ kim hoàn', 'chủ nghĩa Sion', 'điện hoá học', 'bệnh thời khí', 'hệ thống đếm', 'ong vò vẽ', 'đường tiệm cận', 'chồng chưa cưới', 'quyết định luận', 'đen trùi trũi', 'hết chỗ nói', 'khảo cổ học', 'ban giám hiệu', 'nhà ổ chuột', 'cơ khí học', 'xe du lịch', 'giáo dục học', 'sâu vòi voi', 'logic biện chứng', 'tổng thư kí', 'tam giác vuông', 'chuối ba lùn', 'dây khoá kéo', 'khắm lằm lặm', 'bánh đa nem', 'một lá mầm', 'thủ vĩ ngâm', 'quyền công dân', 'bánh mì gối', 'hệ miễn nhiễm', 'ngồi bó gối', 'ô tô con', 'góc đối đỉnh', 'Ấn Độ giáo', 'trân châu lùn', 'ác cái là', 'ngay lập tức', 'thơm phưng phức', 'bèo hoa dâu', 'cây hoa màu', 'com măng ca', 'hiện đại hoá', 'điều phối viên', 'cây lấy dầu', 'vật tự nó', 'xa lăng lắc', 'tiền mãn kinh', 'sinh thực khí', 'xem tử vi', 'ông ba mươi', 'cụ thể hoá', 'hồng huyết cầu', 'nước rửa bát', 'kịch bản phim', 'bùa hộ thân', 'gạch lá nem', 'đô thị hoá', 'địa chấn học', 'chưa biết chừng', 'phương pháp luận', 'bộ xử lý', 'chế tạo máy', 'cúm gia cầm', 'ma cà rồng', 'dân tộc hoá', 'chợ lao động', 'công tác phí', 'tổng hành dinh', 'nuôi báo cô', 'khít khìn khịt', 'đèn hoa kì', 'công chứng viên', 'sử quân tử', 'chạy đằng giời', 'vận trù học', 'hệ thống hoá', 'hét ra lửa', 'nửa chừng xuân', 'nón bài thơ', 'buôn hàng xách', 'độp một cái', 'công nông nghiệp', 'cây thân thảo', 'thuế trực thu', 'hình vành khăn', 'bóng điện tử', 'cận nhiệt đới', 'kính tiềm vọng', 'ngồi bó giò', 'chuối rẻ quạt', 'tiếng địa phương', 'tú lơ khơ', 'động cơ nhiệt', 'quẻ âm dương', 'tàu vũ trụ', 'vải giả da', 'nhẵn thin thín', 'người quản lí', 'xe cút kít', 'cây công nghiệp', 'không tài gì', 'cộng tác viên', 'giấy thông hành', 'thực tại ảo', 'hợp lí hoá', 'thoả thuận khung', 'ngoại giao đoàn', 'quê một cục', 'điện thoại viên', 'sau đại học', 'nón ba tầm', 'sóng điện từ', 'tóc đuôi gà', 'chúa cứu thế', 'chứng minh thư', 'già cốc đế', 'thư lưu ký', 'đèn ba cực', 'đấu vòng tròn', 'hướng đạo sinh', 'bộ xử lí', 'nhiệt đới hoá', 'bán công khai', 'muối bỏ biển', 'thượng nghị sĩ', 'chuồn chuồn kim', 'tàu điện ngầm', 'dấu hai chấm', 'ngữ âm học', 'mất công toi', 'tổng thanh tra', 'đánh trống lấp', 'bờ lu dông', 'công tố viên', 'cây cổ thụ', 'công hữu hoá', 'khăn đầu rìu', 'xước măng rô', 'sinh hoạt phí', 'khủng bố trắng', 'binh công xưởng', 'tổ đổi công', 'nước chè hai', 'gà công nghiệp', 'bất hợp pháp', 'chấm phạt đền', 'nói đúng ra', 'tập thể dục', 'thông tấn xã', 'xuyên tâm liên', 'huấn luyện viên', 'chướng ngại vật', 'tuyến giáp trạng', 'giáo học pháp', 'thi vấn đáp', 'thuỷ phi cơ', 'bạch cương tàm', 'cháo lá đa', 'giá treo cổ', 'đánh vỗ mặt', 'sữa ong chúa', 'ngồi chồm hỗm', 'gạch ốp lát', 'tỉnh uỷ viên', 'khét lèn lẹt', 'câu lạc bộ', 'sáng bảnh mắt', 'rau khủ khởi', 'động vật học', 'xì căng đan', 'sữa đậu nành', 'tranh tứ bình', 'nhất thần luận', 'đại gia đình', 'hình lập phương', 'vô thời hạn', 'giờ chính thức', 'sinh khoáng học', 'đới địa lí', 'thủ công nghiệp', 'hơn bù kém', 'khúc côn cầu', 'vô nhân đạo', 'giáp lá cà', 'tổng phát hành', 'vi sinh vật', 'địa lý học', 'nói vuốt đuôi', 'điều khiển học', 'thắt cổ bồng', 'súng ngựa trời', 'sợi chỉ đỏ', 'thiên văn học', 'tít mù tắp', 'xoài thanh ca', 'chất nguyên sinh', 'ngay cán tàn', 'sinh hoá học', 'chỉ được cái', 'công viên nước', 'thuế môn bài', 'thuốc đặc hiệu', 'thực vật học', 'hoá mỹ phẩm', 'lá cờ đầu', 'liên chi uỷ', 'công tơ tổng', 'cơ chừng này', 'bán cầu não', 'bảng cân đối', 'đèn hoa kỳ', 'di truyền học', 'tre là ngà', 'hệ đơn vị', 'đơn giản hoá', 'kim sinh học', 'đổ bê tông', 'đỏ đòng đọc', 'đỏ hon hỏn', 'lý liệu pháp', 'bào tử nang', 'toán kinh tế', 'thẩm mỹ viện', 'thuyết đa thần', 'kỹ thuật viên', 'thực tập sinh', 'phỏng sinh học', 'luật quốc tế', 'thuyết đa nguyên', 'âm dương lịch', 'dài ngoằng ngoẵng', 'khung hình phạt', 'kĩ thuật viên', 'dấu chấm phẩy', 'nhà văn hoá', 'bộ nhớ trong', 'từ kiêng kị', 'vi khí hậu', 'đậu cô ve', 'bát ô tô', 'công sứ quán', 'xuồng ba lá', 'phòng thường trực', 'đèn măng sông', 'bánh trung thu', 'bằng sáng chế', 'tổng ngân sách', 'trụi thui lủi', 'kính vạn hoa', 'phương diện quân', 'siêu lợi nhuận', 'roi cặc bò', 'mũ chào mào', 'thiên đầu thống', 'cúc vạn thọ', 'đồng vị ngữ', 'số tương đối', 'già khú đế', 'ngôn ngữ máy', 'đa nguyên luận', 'máy thu hình', 'đồng hồ tổng', 'bánh tai voi', 'cha chủ sự', 'từ đồng âm', 'băng thông rộng', 'kinh độ tây', 'côn trùng học', 'vô chính phủ', 'số báo danh', 'bôn sê vích', 'duyên kì ngộ', 'mướt mồ hôi', 'buôn nước bọt', 'trình dược viên', 'pháo phòng không', 'thiên niên kỷ', 'thời khoá biểu', 'tiểu khí hậu', 'ký hiệu học', 'ốc xà cừ', 'phân vô cơ', 'mũ tai bèo', 'đại lễ đường', 'thuốc trừ sâu', 'tiền âm phủ', 'trình soạn thảo', 'bói không ra', 'gạch thông tâm', 'đài thiên văn', 'từ phản nghĩa', 'lưỡi dao cạo', 'đêm trừ tịch', 'công nghệ sạch', 'nội địa hoá', 'thuế trước bạ', 'tư hữu hoá', 'mì ăn liền', 'chính thức hoá', 'cuộn thứ cấp', 'hoa mõm sói', 'đổ đom đóm', 'ý chí luận', 'cờ đuôi nheo', 'mau nước mắt', 'tự động hoá', 'chuối thanh tiêu', 'trừu tượng hoá', 'đừng có trách', 'khốn một nỗi', 'tranh thuỷ mạc', 'áo năm thân', 'gạch men sứ', 'tranh dân gian', 'mạng cục bộ', 'sếu đầu đỏ', 'xuất nhập khẩu', 'thần bí hoá', 'trại mồ côi', 'đầu mục từ', 'thuyết vô thần', 'đậu dải áo', 'nhân trắc học', 'nông choèn choẹt', 'dân chủ hoá', 'vô trách nhiệm', 'nẫng tay trên', 'ba lăng nhăng', 'khổ nhục kế', 'phối kết hợp', 'bán phá giá', 'bất khả kháng', 'cá săn sắt', 'im thin thít', 'ưu khuyết điểm', 'chua me đất', 'quan sát viên', 'đèn điện tử', 'đại hội đồng', 'đậu phụ nhự', 'giám đốc thẩm', 'chất chỉ thị', 'nón quai thao', 'đại công nghiệp', 'sao đổi ngôi', 'cao ban long', 'vô cùng tận', 'than quả bàng', 'giờ quốc tế', 'cửa hàng trưởng', 'đơn bản vị', 'biên niên sử', 'kiểm sát viên', 'tuyến thượng thận', 'giương mắt ếch', 'lưng lửng dạ', 'xuất nhập cảnh', 'vốn pháp định', 'tâm lí chiến', 'giờ hoàng đạo', 'lười chảy thây', 'phát ngôn viên', 'đổ hào quang', 'nhất thể hoá', 'tam giác cầu', 'ướt rườn rượt', 'gái giang hồ', 'tranh thần thoại', 'đất thịt pha', 'kinh độ đông', 'thư tín dụng', 'ngồi xếp bằng', 'liền tù tì', 'bóng thám không', 'xắn móng lợn', 'liên hoan phim', 'chả giò rế', 'xe lội nước', 'số vô tỷ', 'tổng diễn tập', 'đạn bọc đường', 'dao chìa vôi', 'hộp giảm tốc', 'đâu vào đấy', 'liên cầu khuẩn', 'Thiên Chúa giáo', 'tổng kim ngạch', 'dải phân cách', 'cửa tò vò', 'đường trung bình', 'hiệu thính viên', 'mẫu số chung', 'lạy cả nón', 'ứng cử viên', 'bảng cửu chương', 'dân tộc học', 'cây bóng mát', 'đá hoa cương', 'đạo đức học', 'điện khí quyển', 'góc bù nhau', 'tiểu công nghiệp', 'báo cáo viên', 'bẫy cò ke', 'thiên niên kiện', 'bảng chữ cái', 'chẳng mấy chốc', 'đùng một cái', 'cháu đích tôn', 'bắt chuồn chuồn', 'chạy đằng trời', 'bất đắc dĩ', 'người quản lý', 'quy hoạch vùng', 'điện não đồ', 'thư lưu kí', 'biết đâu đấy', 'khí thiên nhiên', 'khô không khốc', 'phản tuyên truyền', 'khoẻ như vâm', 'bị vong lục', 'hình chữ nhật', 'cột thu lôi', 'cá bạc má', 'vũ khí lạnh', 'giun móc câu', 'thư điện tử', 'công ti mẹ', 'khái quát hoá', 'vô nguyên tắc', 'thầy địa lí', 'dâu da xoan', 'hiệp định khung', 'bật đèn xanh', 'đu đủ tía', 'khổ sâm nam', 'quần đông xuân', 'chầu ông vải', 'chuyên môn hoá', 'lò sát sinh', 'tranh tôn giáo', 'cá đuôi cờ', 'logic toán học', 'viện quí tộc', 'đi đằng đầu', 'viện hàn lâm', 'đa dạng hoá', 'nói trống không', 'điện thoại Internet', 'vô kì hạn', 'chim hát bội', 'hoa lá cành', 'hữu thần luận', 'gạch chịu lửa', 'nhà doanh nghiệp', 'thứ dân viện', 'chén mắt trâu', 'đồng mắt cua', 'chuột tam thể', 'tang tảng sáng', 'đa tư lự', 'tinh thể học', 'công thương nghiệp', 'cá thoi loi', 'cài răng lược', 'trường đoản cú', 'thuyết bất biến', 'hoà cả làng', 'tâm đối xứng', 'nóng hôi hổi', 'mỏng dinh dính', 'phép siêu hình', 'tổng vệ sinh', 'chủ tịch đoàn', 'dao động kí', 'cam tẩu mã', 'ăn phải bả', 'áo ba lỗ', 'võ sĩ đạo', 'màn hiện sóng', 'cái chết trắng', 'mũ bảo hiểm', 'bất động sản', 'có máu mặt', 'quốc vụ khanh', 'công đoàn phí', 'bắc bán cầu', 'tỉ lệ thức', 'vô căn cứ', 'cổ địa lý', 'gà mái ghẹ', 'tháng dương lịch', 'bình luận viên', 'khu tập thể', 'số vô tỉ', 'kính hiển vi', 'phản thí dụ', 'thanh thiếu niên', 'cửu lí hương', 'hạ sĩ quan', 'hình lăng trụ', 'từ nguyên học', 'bo mạch chủ', 'chè đậu đãi', 'quân tình nguyện', 'viện quý tộc', 'nói thánh tướng', 'át chủ bài', 'vô hiệu hoá', 'tương lai học', 'sao Bắc Cực', 'khí tĩnh học', 'quĩ tín dụng', 'dấu gạch nối', 'mũ bịt tai', 'phó lãnh sự', 'gái bán hoa', 'hộp chữa cháy', 'nhạc điện tử', 'công binh xưởng', 'hình nhi hạ', 'đội quân nhạc', 'kỹ thuật số', 'lộn tùng phèo', 'vô tư lự', 'cung văn hoá', 'dây thép gai', 'kim tương học', 'nhiệt động học', 'sở chỉ huy', 'tổng công ti', 'lời nói đầu', 'bán đấu giá', 'khóc dạ đề', 'lử cò bợ', 'hồ chứa nước', 'tham mưu trưởng', 'tổng lãnh sự', 'hươu cao cổ', 'tít thò lò', 'trăng lưỡi liềm', 'thuỷ văn học', 'đèn cảm ứng', 'dầu con hổ', 'tiên sư cha', 'nhảy cà tưng', 'tiền mãi lộ', 'vị thành niên', 'múa sư tử', 'thi vị hoá', 'ổ đĩa cứng', 'ớt chỉ thiên', 'cây lương thực', 'điện sinh học', 'góc nhị diện', 'anh hùng ca', 'sao Hải Vương', 'định mệnh luận', 'thẩm mĩ viện', 'vành đai trắng', 'khí tượng học', 'vãi linh hồn', 'đường quốc lộ', 'nam cực quyền', 'khỏi phải nói', 'xe bọc thép', 'da bánh mật', 'thư kí riêng', 'thuộc nằm lòng', 'thuyết luân hồi', 'mỡ cơm xôi', 'úm ba la', 'bóng đá mini', 'cách điệu hoá', 'cỏ lồng vực', 'bộ chỉ huy', 'mồ hôi muối', 'từ trái nghĩa', 'bật lò xo', 'đường lánh nạn', 'tổng đại diện', 'bom khinh khí', 'tầm nhìn xa', 'xa bô chê', 'đỏ quành quạch', 'ký âm pháp', 'đường xương cá', 'Cơ Đốc giáo', 'ngang cành bứa', 'từ kiêng kỵ', 'số thập phân', 'hình quạt tròn', 'cỏ roi ngựa', 'sức lao động', 'nhọ mặt người', 'thông tín viên', 'nghèo xác xơ', 'tâm lý chiến', 'chất kết dính', 'nón tu lờ', 'quất hồng bì', 'giao thông hào', 'máy quay đĩa', 'điện trở suất', 'công nghệ cao', 'ngoại tệ mạnh', 'siêu tự nhiên', 'củ bình vôi', 'đại qui mô', 'nhất thần giáo', 'chơi với lửa', 'nhất nguyên luận', 'Tết âm lịch', 'địa chất học', 'tội phạm học', 'tập đoàn quân', 'ăn báo hại', 'cặp ba lá', 'phân vi sinh', 'mạng toàn cục', 'kính viễn vọng', 'thuyết định mệnh', 'ké đầu ngựa', 'vi phẫu thuật', 'bảng tuần hoàn', 'giày mõm nhái', 'gió heo may', 'đại gian ác', 'nói trộm vía', 'hàng chiến lược', 'chất hữu cơ', 'mưa bóng mây', 'đại quy mô', 'nhà chức trách', 'cầu hàng không', 'bom ba càng', 'phép kéo theo', 'cửa bức bàn', 'tỉnh như không', 'nhà tư tưởng', 'phiếm thần luận', 'cấp uỷ viên', 'chè bà cốt', 'không tài nào', 'sinh vật cảnh', 'tàu tốc hành', 'bản ghi nhớ', 'hoa đồng tiền', 'vi xử lí', 'giá cạnh tranh', 'tàu sân bay', 'công nông binh', 'tia hồng ngoại', 'bộ điều giải', 'khí động học', 'tổng phản công', 'mốc hoa cau', 'dạ minh sa', 'thuyết biến hình', 'tre đằng ngà', 'ăn báo cô', 'động lực học', 'thuỷ lực học', 'trợ động từ', 'ấp dân sinh', 'súng cao su', 'bắt đầu từ', 'ong bắp cày', 'nến đánh lửa', 'tia cực tím', 'mục đích luận', 'máy bộ đàm', 'cấp số nhân', 'Chính Thống giáo', 'suy dinh dưỡng', 'giật cánh khuỷu', 'phản tác dụng', 'tuyên truyền viên', 'tiếc hùi hụi', 'tiểu qui mô', 'bần cố nông', 'buồn rười rượi', 'nhân cách hoá', 'nhiệt hoá học', 'mũ lưỡi trai', 'bùa hộ mệnh', 'đường trung trực', 'sát sàn sạt', 'phản cách mạng', 'rẻ như bèo', 'chung qui lại', 'cá tính hoá', 'bắc sài hồ', 'kim loại học', 'thước tỉ lệ', 'chim phường chèo', 'ngọc lan tây', 'vú cao su', 'hồ li tinh', 'bình thường hoá', 'thiết giáp hạm', 'nhanh nhảu đoảng', 'bệnh nghề nghiệp', 'trường sinh học', 'bóng bán dẫn', 'đánh du kích', 'đá ốp lát', 'bất đẳng thức', 'siêu người mẫu', 'giả ba ba', 'kí âm pháp', 'bộ chính trị', 'xa xỉ phẩm', 'nhạc đồng quê', 'kiểm toán viên', 'dầy cồm cộp', 'rối bòng bong', 'bộ nhớ ngoài', 'dé chân chèo', 'khoáng sàng học', 'người phát ngôn', 'tổng bí thư', 'tổng sản lượng', 'chông ba lá', 'tranh khắc đồng', 'cá bống mú', 'thầy địa lý', 'chẳng mấy nỗi', 'thương mại hoá', 'xe song mã', 'bán phụ âm', 'điều tra viên', 'tổng công ty', 'bói đâu ra', 'đâu ra đấy', 'tử vì đạo', 'tiếng mẹ đẻ', 'khó đăm đăm', 'không biết chừng', 'hình chóp cụt', 'ngậm bồ hòn', 'bất bạo động', 'thuỷ tĩnh học', 'ấp chiến lược', 'chia hết cho', 'qui hoạch vùng', 'cá biệt hoá', 'lí liệu pháp', 'ổ đề kháng', 'cung thiếu nhi', 'bé cái lầm', 'còn mồ ma', 'kí hiệu học', 'quyền sở hữu', 'phong cách học', 'số đại số', 'cách mạng xanh', 'chạy việt dã', 'xã hội đen', 'ba mươi Tết', 'cá rô thia', 'kính đổi màu', 'số bị trừ', 'vành móng ngựa', 'thuyết duy danh', 'đánh tiêu hao'}\n",
      "{'bất thình lình', 'đường xương cá', 'văn nghệ sĩ', 'chấm phạt đền', 'biết bao nhiêu', 'đánh đàng xa', 'dấu hai chấm', 'bất tín nhiệm', 'xa xỉ phẩm', 'đỏ hoen hoét', 'tang tảng sáng', 'chất nguyên sinh', 'tự động hoá', 'cơ khí hoá', 'địa vật lý', 'bùa hộ thân', 'tổng đại diện', 'lộn mề gà', 'trường sinh học', 'bạn con dì', 'lời đường mật', 'đậu cô ve', 'thông tín viên', 'gió mùa đông-bắc', 'trăng lưỡi liềm', 'điện thoại Internet', 'giao thông hào', 'dầu cù là', 'biết đâu đấy', 'tổng tấn công', 'đạo Thiên Chúa', 'vô hình trung', 'đài hoá thân', 'số vô tỷ', 'tầm nhìn xa', 'phép hài thanh', 'ướt sườn sượt', 'tóc đuôi gà', 'thẩm mĩ viện', 'kiến trúc sư', 'đỏ đòng đọc', 'tổng cục trưởng', 'chiến tranh lạnh', 'chè hạt lựu', 'diện tích phụ', 'màng tế bào', 'canh ki na', 'đới địa chất', 'giun móc câu', 'vòng nguyệt quế', 'tổng chỉ huy', 'bán nguyệt san', 'bán tự động', 'chữ thập ngoặc', 'phim đèn chiếu', 'bụng bảo dạ', 'bẫy cò ke', 'hầm trú ẩn', 'cách điệu hoá', 'kề miệng lỗ', 'đồng mắt cua', 'thềm lục địa', 'nhanh nhẩu đoảng', 'viện bảo tàng', 'y như rằng', 'nắm đằng chuôi', 'quy hoạch vùng', 'đen nghìn nghịt', 'biết chừng nào', 'luật bằng trắc', 'hội ái hữu', 'binh công xưởng', 'bộ tư lệnh', 'áo lọt lòng', 'đại bộ phận', 'máy bộ đàm', 'gạch lá nem', 'bệnh nghề nghiệp', 'nhà hộ sinh', 'cửu lí hương', 'thuyết vô thần', 'bình thường hoá', 'nhiệt độ Fahrenheit', 'tỉ lệ nghịch', 'người bị hại', 'tranh thần thoại', 'ổ đĩa cứng', 'chủ tịch đoàn', 'tổng khủng hoảng', 'nước chè hai', 'buôn nước bọt', 'nói thánh tướng', 'hệ miễn dịch', 'nhân loại học', 'nam sài hồ', 'siêu hiện thực', 'mạng toàn cục', 'tổng biên tập', 'máy ghi âm', 'vung tàn tán', 'bất thành văn', 'lơ tơ mơ', 'gương tày liếp', 'chim thầy bói', 'giá sinh hoạt', 'tiền mãi lộ', 'đường lánh nạn', 'máy rửa bát', 'sạch sành sanh', 'kí hiệu học', 'cốt khí muồng', 'lương sản phẩm', 'phó văn phòng', 'bị vong lục', 'địa hoá học', 'đá tai mèo', 'trơ mắt ếch', 'Mạnh Thường Quân', 'phòng khánh tiết', 'kim sinh học', 'công đoàn phí', 'hiện đại hoá', 'hải dương học', 'cơ khí học', 'tia hồng ngoại', 'ca ra bộ', 'ma cà rồng', 'tam giác đều', 'danh từ riêng', 'khó đăm đăm', 'quạt treo tường', 'thủ công nghiệp', 'pháo tự hành', 'nhị nguyên luận', 'sữa ong chúa', 'hiệu thính viên', 'vòng tránh thai', 'tương lai học', 'mèo tam thể', 'liên cầu khuẩn', 'dẻo quèo quẹo', 'địa chấn ký', 'cặp ba lá', 'tâm sinh lý', 'đa nguyên luận', 'nhọ mặt người', 'liên chi uỷ', 'tiền hôn nhân', 'ngữ nghĩa học', 'công nông binh', 'động lực học', 'phường bát âm', 'đường tiệm cận', 'hiệu điện thế', 'thổ phục linh', 'khoẻ như vâm', 'ngay tức khắc', 'chẳng mấy chốc', 'đánh công kiên', 'cỏ lồng vực', 'kim anh tử', 'liên hoan phim', 'phi chính phủ', 'bật đèn xanh', 'ảo thuật gia', 'ưu khuyết điểm', 'đánh chính diện', 'Chính Thống giáo', 'ban chấp hành', 'cực chẳng đã', 'chia để trị', 'tiền sử học', 'tái vũ trang', 'vung thiên địa', 'áo trấn thủ', 'hào giao thông', 'phim hoạt hình', 'cấp uỷ viên', 'đa phương hoá', 'nhảy chân sáo', 'điêu khắc gia', 'vành móng ngựa', 'tổng diễn tập', 'giờ địa phương', 'hành tá tràng', 'hò mái nhì', 'đại tư bản', 'hợp kim màu', 'tổng dự toán', 'nói đúng ra', 'pháo thăng thiên', 'thiết giáp hạm', 'trắc địa mỏ', 'thiếu sinh quân', 'trắc địa học', 'sửa chữa lớn', 'thuốc đặc hiệu', 'nồi áp suất', 'kính tiềm vọng', 'thuỷ phi cơ', 'ngữ âm học', 'giật cánh khuỷu', 'cai đầu dài', 'óc bã đậu', 'hình nhi hạ', 'nghề tự do', 'già cốc đế', 'thẻ tín dụng', 'có bề nào', 'tâm lý chiến', 'tình dục học', 'cá thia thia', 'hắc tinh tinh', 'bội số chung', 'dép quai hậu', 'giết thì giờ', 'sít sìn sịt', 'tàu sân bay', 'công ty con', 'cụt thun lủn', 'chuối ba lùn', 'sóng điện từ', 'độ chính xác', 'công sứ quán', 'tâm lí chiến', 'cúm gia cầm', 'đi bước nữa', 'liệu thần hồn', 'hồ chứa nước', 'khung hình phạt', 'sức lao động', 'ngũ gia bì', 'nhà thi đấu', 'thông tin học', 'chỉ được cái', 'câm miệng hến', 'dao động kí', 'phân vi lượng', 'trình soạn thảo', 'tối hậu thư', 'thiên văn học', 'thợ thủ công', 'cuống cà kê', 'bôn sê vích', 'kịch bản phim', 'khí động học', 'gấu Bắc Cực', 'nhận thức luận', 'đùa với lửa', 'xe bọc thép', 'chín tầng mây', 'giấy dó lụa', 'siêu ngôn ngữ', 'tổng giám đốc', 'công nhân viên', 'quê một cục', 'thuyết tiến hoá', 'sứ vệ sinh', 'hình học Euclid', 'mỏng dinh dính', 'đen lay láy', 'bạch đồng nữ', 'bóng đá mini', 'đường trung trực', 'lượng giác học', 'sán xơ mít', 'số báo danh', 'xắn móng lợn', 'giâu gia xoan', 'công tố viên', 'viện quý tộc', 'khí áp kế', 'ngồi chồm hổm', 'số bình quân', 'vô liêm sỉ', 'thiên niên kiện', 'tổng thư kí', 'nông trang viên', 'khu chế xuất', 'nghèo xác xơ', 'công nghệ phẩm', 'năm âm lịch', 'áo vệ sinh', 'đoàn ngoại giao', 'khóc dạ đề', 'đỏ chon chót', 'cổ lai hi', 'nói trộm vía', 'gạch thông tâm', 'cân tiểu li', 'siêu lợi nhuận', 'thuyết định mệnh', 'mèo nhị thể', 'hình quạt tròn', 'lý tưởng hoá', 'dấu chấm than', 'ông ba mươi', 'dâu da xoan', 'thuyết nhất nguyên', 'tâm đối xứng', 'nhạc tài tử', 'sâu vòi voi', 'bán công khai', 'đâu vào đấy', 'tiểu gia súc', 'thuyết thần bí', 'dây khoá kéo', 'tiền định luận', 'không mấy khi', 'hình vành khăn', 'liền tù tì', 'đa tư lự', 'giờ hành chính', 'thuế trước bạ', 'lỗ chân lông', 'roi cặc bò', 'đại nguyên soái', 'tiểu qui mô', 'thương mại hoá', 'đại số học', 'chuyển động đều', 'chán mớ đời', 'cung phản xạ', 'nẫng tay trên', 'thẳng ruột ngựa', 'tâm lý học', 'xuyên tâm liên', 'bước nhảy vọt', 'phiếm thần luận', 'vết xe đổ', 'súng ngựa trời', 'cách mạng hoá', 'tổng sản phẩm', 'gà mái ghẹ', 'đánh vận động', 'cụ thể hoá', 'tổng vệ sinh', 'chim đầu đàn', 'thầy địa lý', 'chim hát bội', 'đào lộn hột', 'bất hợp pháp', 'vi phẫu thuật', 'khu công nghiệp', 'số tương đối', 'hiệp tác hoá', 'phim con heo', 'ngồi xếp bằng', 'ăn hối lộ', 'máy liên hợp', 'ngặt một nỗi', 'thuế doanh thu', 'sao Thiên Vương', 'nói vuốt đuôi', 'có bề gì', 'chân giá trị', 'cao lêu nghêu', 'tính nhân quả', 'hồ ly tinh', 'quỹ tín dụng', 'chén mắt trâu', 'viện hàn lâm', 'pháo đài bay', 'nói bóng gió', 'bạn nối khố', 'long diên hương', 'nhiễm sắc thể', 'mận tam hoa', 'vốn lưu động', 'nắng xiên khoai', 'bánh tai voi', 'chơi với lửa', 'công tơ tổng', 'căn cứ địa', 'hệ tư tưởng', 'mũ tai bèo', 'chông ba lá', 'tàu vũ trụ', 'thuyết nhân quả', 'vô cùng tận', 'lạnh như tiền', 'uỷ nhiệm thư', 'sếu đầu đỏ', 'số hữu tỷ', 'chỉ huy trưởng', 'số bị chia', 'tỉ lệ thức', 'băng vệ sinh', 'biên tập viên', 'phó thường dân', 'kính vạn hoa', 'tóp tòm tọp', 'đại quy mô', 'cổ địa lí', 'gái giang hồ', 'thép không gỉ', 'đá ốp lát', 'chẳng mấy nỗi', 'động cơ điện', 'đùng một cái', 'sửa chữa nhỏ', 'bom hoá học', 'kẹo cao su', 'bất hợp lí', 'xanh hoà bình', 'giải phẫu học', 'tin học hoá', 'mìn định hướng', 'gạch ốp lát', 'nhân cách hoá', 'mỡ cơm xôi', 'vỡ kế hoạch', 'nhảy cà tưng', 'dây thần kinh', 'tụ huyết trùng', 'nhanh nhảu đoảng', 'hàng chiến lược', 'bảng tuần hoàn', 'tổng thư ký', 'kim tương học', 'quốc tế ca', 'âm dương lịch', 'cá tính hoá', 'dạ lá sách', 'tiểu khí hậu', 'phó lãnh sự', 'cha chủ sự', 'tiếc hùi hụi', 'hoa loa kèn', 'xe du lịch', 'nhà chức trách', 'cờ đuôi nheo', 'đỏ con mắt', 'khí tượng học', 'đường gấp khúc', 'thuế thu nhập', 'thuế trực thu', 'góc đối đỉnh', 'nước rửa bát', 'bón đón đòng', 'cụm cứ điểm', 'khảo cổ học', 'bánh mì gối', 'lưng lửng dạ', 'tổng kim ngạch', 'nón tu lờ', 'tuyên bố chung', 'chiêm tinh học', 'dao chìa vôi', 'bật lò xo', 'vua phá lưới', 'bánh đa nem', 'điện báo viên', 'điện sinh học', 'tinh thể học', 'cân đồng hồ', 'nhà tu kín', 'mũ bảo hiểm', 'điện thoại viên', 'bạch phụ tử', 'sổ hộ khẩu', 'bảng cân đối', 'quốc hữu hoá', 'xe song mã', 'trời có mắt', 'thư kí riêng', 'tập đại thành', 'đánh trận địa', 'lai kinh tế', 'vốn pháp định', 'đánh trống ngực', 'ké đầu ngựa', 'ấp chiến lược', 'tổng tư lệnh', 'sở giao dịch', 'bạn vong niên', 'cửa bức bàn', 'cửa tò vò', 'khúc côn cầu', 'mau nước mắt', 'thư ký riêng', 'khổ một nỗi', 'lời toà soạn', 'công nghiệp hoá', 'xuất bản phẩm', 'xã hội hoá', 'bán nguyên âm', 'mì ăn liền', 'thế giới quan', 'đen nhay nháy', 'dạ lí hương', 'bắt nhân tình', 'tít thò lò', 'bộ điều giải', 'máy hút bụi', 'thượng hảo hạng', 'đại cà sa', 'hệ đơn vị', 'đâu ra đấy', 'giá cạnh tranh', 'hình tam giác', 'đường chim bay', 'gạch men sứ', 'ớt chỉ thiên', 'đen nhưng nhức', 'tổng giám mục', 'cây cổ thụ', 'trung bình cộng', 'dầu bạc hà', 'ký túc xá', 'hộp giảm tốc', 'báo điện tử', 'trực thăng vận', 'địa tầng học', 'xa lăng lắc', 'dây tiếp địa', 'tàu khu trục', 'đức ông chồng', 'tuyến tiền liệt', 'vô tích sự', 'đường quốc lộ', 'đường tỉnh lộ', 'luật dân sự', 'tính giai cấp', 'đại lễ đường', 'vũ khí lạnh', 'cổ sinh vật', 'thuyết đa thần', 'tia cực tím', 'cá da trơn', 'nghiên cứu sinh', 'dài ngoằng ngoẵng', 'đài truyền hình', 'địa chấn kí', 'tổng công ty', 'bói không ra', 'du học sinh', 'giải phóng quân', 'nhạc điện tử', 'thanh thiếu niên', 'đèn măng sông', 'ký âm pháp', 'tội phạm học', 'cửa hàng trưởng', 'cổ phần hoá', 'khăn mỏ quạ', 'dạ minh sa', 'cỏ mần trầu', 'bom ba càng', 'com măng ca', 'mục sở thị', 'đèn huỳnh quang', 'độp một cái', 'tàu tuần tiễu', 'búng ra sữa', 'hình nón cụt', 'sao Diêm Vương', 'tĩnh điện kế', 'lạc quan tếu', 'thuyết hỗ trợ', 'thuỷ tĩnh học', 'quan sát viên', 'chẳng mấy khi', 'da bánh mật', 'rất chi là', 'ba mươi Tết', 'tâm sinh lí', 'tranh đồ hoạ', 'số tự nhiên', 'gai cột sống', 'bắc bán cầu', 'công trình phụ', 'hạ nghị viện', 'càng ngày càng', 'công trình sư', 'phôi sinh học', 'vãi linh hồn', 'tổng ngân sách', 'ngói âm dương', 'phỏng sinh học', 'kiểm sát viên', 'bán vũ trang', 'nước gội đầu', 'vô nguyên tắc', 'đất dụng võ', 'đất thịt pha', 'thạch xương bồ', 'ống tay áo', 'rừng phòng hộ', 'phéc mơ tuya', 'công hữu hoá', 'thẳng tuồn tuột', 'bom nổ chậm', 'góc đa diện', 'Bà La Môn', 'văn học sử', 'thông cáo chung', 'ký hiệu học', 'bản đồ học', 'tuyến giáp trạng', 'dài dằng dặc', 'hình viên phân', 'vật linh giáo', 'cây thân thảo', 'hình lập phương', 'chữ quốc ngữ', 'biên niên sử', 'sư đoàn trưởng', 'hệ thống đếm', 'huấn luyện viên', 'ra cái vẻ', 'bàn là hơi', 'công chứng viên', 'đái tháo đường', 'vốn tự có', 'đàn thập lục', 'bát ô tô', 'văn phòng phẩm', 'từ vựng học', 'vật lí học', 'màn hiện sóng', 'còn mồ ma', 'khách qua đường', 'nhu yếu phẩm', 'tiền mãn kinh', 'đường xoáy ốc', 'thảo cầm viên', 'nón ba tầm', 'quẻ âm dương', 'đu đủ tía', 'cờ lông công', 'địa cốt bì', 'số đại số', 'thuỷ tinh thể', 'vô thiên lủng', 'xa bô chê', 'kế toán trưởng', 'khô dầu lá', 'xe lăn đường', 'đường hàng hải', 'xoài thanh ca', 'cá mè hoa', 'óc bè phái', 'cú pháp học', 'hợp lý hoá', 'đá hoa cương', 'đại đa số', 'hạ sĩ quan', 'cảm giác luận', 'dây kẽm gai', 'song tử diệp', 'hệ điều hành', 'khắm lằm lặm', 'ấp dân sinh', 'số bị nhân', 'thuyết biến hoá', 'trại cải tạo', 'mặt trái xoan', 'mĩ nhân kế', 'đa xử lý', 'tiểu đội trưởng', 'lãnh sự quán', 'tia tử ngoại', 'công tác phí', 'ra cái điều', 'nhà điều dưỡng', 'hào chiến đấu', 'ứng cử viên', 'đổ đom đóm', 'dải phân cách', 'ngay cán tàn', 'tu nghiệp sinh', 'quan trọng hoá', 'tạp phí lù', 'tranh dân gian', 'cái chết trắng', 'hàng tiêu dùng', 'tiểu sản xuất', 'mẫu số chung', 'bàn thắng vàng', 'đèn cao áp', 'câu lạc bộ', 'thiên niên kỉ', 'thiên niên kỷ', 'thắt cổ bồng', 'đơn tử diệp', 'đấu vòng tròn', 'khí thiên nhiên', 'làm dấu thánh', 'phối kết hợp', 'ong bắp cày', 'tiền âm phủ', 'thực chứng luận', 'quạt thông gió', 'dẫn chương trình', 'cà dái dê', 'hoa mõm sói', 'anh hùng rơm', 'áo cà sa', 'cấp số cộng', 'sở chỉ huy', 'sách giáo khoa', 'thuyết tiền định', 'đỏ hon hỏn', 'ớt cà chua', 'nhảy cà tửng', 'ca la thầu', 'sinh thái học', 'an toàn khu', 'đại cử tri', 'chướng ngại vật', 'bất hợp tác', 'nhà doanh nghiệp', 'tàu điện ngầm', 'độ phân giải', 'cá lòng tong', 'vô hiệu hoá', 'điện não đồ', 'gương tầy liếp', 'lập trình viên', 'đổ hào quang', 'tổng phát hành', 'sát sàn sạt', 'ban bí thư', 'tổng công ti', 'thần bí hoá', 'hoà cả làng', 'cao hổ cốt', 'cây bóng mát', 'giáo học pháp', 'sóng vô tuyến', 'quyền sở hữu', 'bất đẳng thức', 'úm ba la', 'đại sứ quán', 'giấy đánh máy', 'nhất thần luận', 'tranh khảm màu', 'tuần trăng mật', 'anh hùng ca', 'trồng cây chuối', 'lò vi sóng', 'sinh vật cảnh', 'động cơ nhiệt', 'vườn quốc gia', 'rừng đặc dụng', 'luật bài trung', 'tháng dương lịch', 'năm dương lịch', 'nến đánh lửa', 'truỵ tim mạch', 'bộ khuếch đại', 'máy hơi nước', 'xe thổ mộ', 'thiên đầu thống', 'tỉ lệ thuận', 'xã hội học', 'giấy vệ sinh', 'trời đất ơi', 'sân vận động', 'sửa chữa vừa', 'quyền tác giả', 'dựng tóc gáy', 'máy chiếu phim', 'ngậm hột thị', 'đường hàng không', 'bắc cực quyền', 'toàn cầu hoá', 'điển hình hoá', 'cầu thang máy', 'chủ sở hữu', 'tổng tham mưu', 'má bánh đúc', 'cối chày đạp', 'công nghiệp nặng', 'báo cáo viên', 'dạ dày cơ', 'huyết sắc tố', 'thước tỷ lệ', 'đừng có trách', 'tẩy rửa tiền', 'đường vành đai', 'công nghệ sạch', 'vận trù học', 'muối bỏ biển', 'chúa cứu thế', 'thuyết hữu thần', 'phân hoá học', 'nghị định thư', 'kinh độ tây', 'áo tứ thân', 'tổng tuyển cử', 'lí tưởng hoá', 'world wide web', 'mạch tích hợp', 'tính tư tưởng', 'thời gian biểu', 'sâu đục thân', 'bảng chữ cái', 'đèn bán dẫn', 'cá lành canh', 'quần đông xuân', 'cá thát lát', 'đạn bọc đường', 'đánh chim sẻ', 'cối xay gió', 'bầu không khí', 'súng liên thanh', 'góc bù nhau', 'tranh tôn giáo', 'nhân dân tệ', 'đánh tiêu diệt', 'cỏ sâu róm', 'xốp xồm xộp', 'chuối thanh tiêu', 'chứng minh thư', 'dân chủ hoá', 'kế hoạch hoá', 'từ điển học', 'khăn quàng đỏ', 'nhà tư tưởng', 'động vật học', 'bậc tam cấp', 'đảng uỷ viên', 'không tài nào', 'luyện kim đen', 'ăn phải đũa', 'thượng nghị viện', 'xe lội nước', 'chất chỉ thị', 'giờ quốc tế', 'bộ chính trị', 'dài đuồn đuỗn', 'khải hoàn môn', 'siêu liên kết', 'máy điều hoà', 'tràn cung mây', 'bất đắc dĩ', 'ong vò vẽ', 'tẻo tèo teo', 'than quả bàng', 'đồng vị ngữ', 'ngoại tệ mạnh', 'củ cải đường', 'bàn thắng bạc', 'dài thườn thượt', 'hoa mười giờ', 'phát ngôn viên', 'động cơ diesel', 'chất bôi trơn', 'đại hồng thuỷ', 'khí hậu học', 'góc nhị diện', 'cơ giới hoá', 'cảnh đặc tả', 'kim nam châm', 'khuỳnh tay ngai', 'tổng phản công', 'từ kiêng kỵ', 'vô tư lự', 'cột thu lôi', 'tản thực vật', 'tôn giáo học', 'bờ lu dông', 'bán cầu não', 'quần lá toạ', 'nhiệt động học', 'Tết âm lịch', 'truyện cổ tích', 'bạch huyết bào', 'nhân trắc học', 'đại công nghiệp', 'hình chữ nhật', 'Hệ Mặt Trời', 'khăn đầu rìu', 'hữu thần luận', 'hộp tốc độ', 'tối huệ quốc', 'tươi roi rói', 'nhà chọc trời', 'bản in thử', 'mạng diện rộng', 'dân tộc hoá', 'phép biện chứng', 'buôn hàng xách', 'chua loen loét', 'bán trả góp', 'bảng tổng sắp', 'viện quí tộc', 'võ sĩ đạo', 'tàu tốc hành', 'xuất nhập khẩu', 'quất hồng bì', 'cá thoi loi', 'từ đồng nghĩa', 'quần xà lỏn', 'cá đuôi cờ', 'đổ bê tông', 'vô chính phủ', 'công nghệ cao', 'nặng trình trịch', 'hồ li tinh', 'bắt chuồn chuồn', 'da bọc xương', 'ngắn tun hủn', 'bùa hộ mệnh', 'sau đại học', 'điều kiện đủ', 'của đáng tội', 'đèn khí đá', 'chạy đằng giời', 'cầy bông lau', 'bấm ra sữa', 'tỉnh uỷ viên', 'bộ nhớ trong', 'động mạch vành', 'chớ có trách', 'đại cao thủ', 'đánh tung thâm', 'dấu chấm phẩy', 'cận nhiệt đới', 'đô thị hoá', 'chính trị gia', 'siêu vi khuẩn', 'mộng âm dương', 'việc đã rồi', 'tam giác cân', 'ngôn ngữ học', 'cá săn sắt', 'chè con ong', 'vô giáo dục', 'chủ nghĩa Marx', 'tổng tiến công', 'xước măng rô', 'khu tập thể', 'bán bình nguyên', 'tu từ học', 'nhà tập thể', 'chả mấy khi', 'đặc phái viên', 'áo ba lỗ', 'phản thí dụ', 'tất tần tật', 'tia vũ trụ', 'thuyết trình viên', 'kỹ thuật viên', 'bán phụ âm', 'quạt con cóc', 'trường giáo dưỡng', 'nói gì đến', 'biệt động đội', 'thợ kim hoàn', 'phong cách học', 'cá rô thia', 'đèn kéo quân', 'nông choèn choẹt', 'chính trị phạm', 'vườn địa đàng', 'kỵ binh bay', 'xe gắn máy', 'chất kết dính', 'giấy trang kim', 'giày ba ta', 'súng tự động', 'quĩ tín dụng', 'tuyên truyền viên', 'dạ lan hương', 'công ti mẹ', 'đánh đồng thiếp', 'chén hạt mít', 'tiền liệt tuyến', 'cây thân cỏ', 'hoa mõm chó', 'ngoại giao đoàn', 'chè bà cốt', 'trơ thổ địa', 'dịch tễ học', 'chủ tài khoản', 'phát thanh viên', 'hình bình hành', 'xe cơ giới', 'ma nơ canh', 'nhân khẩu học', 'chỉ mỗi tội', 'duyên kỳ ngộ', 'cũng quá tội', 'công dã tràng', 'bất khả kháng', 'thoả thuận khung', 'át chủ bài', 'xin âm dương', 'thi vị hoá', 'tuần dương hạm', 'chạy dai sức', 'nhẵn thin thín', 'vuốt râu hùm', 'thư chuyển tiền', 'thập tự chinh', 'công ty mẹ', 'tre là ngà', 'sư hổ mang', 'khét lèn lẹt', 'cổ địa lý', 'tranh sơn mài', 'đường xoắn ốc', 'siêu vi trùng', 'nói trống không', 'tranh sơn thuỷ', 'đá trầm tích', 'kiến tạo học', 'chuồn chuồn kim', 'bèo lục bình', 'tam đoạn luận', 'giả ba ba', 'thuyết duy danh', 'mốc hoa cau', 'lí sự cùn', 'dấu chấm lửng', 'đoạn toa xe', 'thần thánh hoá', 'sợi chỉ đỏ', 'chuột tam thể', 'mùi mẽ gì', 'cười vỡ bụng', 'viện kiểm sát', 'sữa đậu nành', 'trần trùi trụi', 'góc học tập', 'hi thiêm thảo', 'ăn phải bả', 'nín thin thít', 'chiến lợi phẩm', 'hăng máu vịt', 'bình nóng lạnh', 'mạng cục bộ', 'phó giáo sư', 'bèo hoa dâu', 'vạn niên thanh', 'chắc nình nịch', 'đay ấn Độ', 'cổ tự học', 'lính đánh thuê', 'vô thừa nhận', 'thông tấn xã', 'cỏ bạc đầu', 'xa vời vợi', 'siêu hình học', 'cung thiếu nhi', 'số siêu việt', 'ốc xà cừ', 'thẳng đuồn đuột', 'sao đổi ngôi', 'vị thành niên', 'đa dạng hoá', 'tổng bãi công', 'sâu cắn gié', 'quyết định luận', 'khinh khí cầu', 'lúm đồng tiền', 'cầu thang cuốn', 'cân móc hàm', 'từ nguyên học', 'tiểu đoàn bộ', 'tập thể dục', 'địa lí học', 'nhiệt lượng kế', 'chân vòng kiềng', 'tiền khả thi', 'bé cái lầm', 'thuyết duy ngã', 'logic toán học', 'hắc xì dầu', 'kính viễn vọng', 'máy chiếu hình', 'bệnh bạch cầu', 'mướt mồ hôi', 'áo đại cán', 'đạo đức học', 'hiện tượng luận', 'khí tĩnh học', 'vô điều kiện', 'đồng hồ tổng', 'tính đồng nhất', 'lò sát sinh', 'vô tổ chức', 'mất công toi', 'chế tạo máy', 'cuộn sơ cấp', 'bèo Nhật Bản', 'túi du lịch', 'tổ dân phố', 'kỹ thuật số', 'ngay tắp lự', 'vô sản hoá', 'lò luyện kim', 'tổng thanh tra', 'giấy chứng minh', 'suất điện động', 'cây lâu năm', 'phải cái tội', 'sạch nước cản', 'sinh khoáng học', 'duy ý chí', 'khán thính giả', 'đường dây nóng', 'cao dong dỏng', 'bắc sài hồ', 'gì thì gì', 'củ bình vôi', 'tuổi hồi xuân', 'ngữ pháp học', 'đường trắc địa', 'pháo phòng không', 'bánh phồng tôm', 'cây ăn trái', 'đột phá khẩu', 'thư bảo đảm', 'chất bán dẫn', 'cách mạng xanh', 'đi đại tiện', 'từ phản nghĩa', 'sư tử biển', 'quỹ tiết kiệm', 'chủ nhân ông', 'thảo quyết minh', 'chia hết cho', 'cá biệt hoá', 'bơm chân không', 'dân số học', 'hộp chữa cháy', 'điều phối viên', 'tiếng phổ thông', 'máy vi tính', 'bất hợp lý', 'điện khí quyển', 'tranh khắc đồng', 'số chính phương', 'hơn bù kém', 'máy quay đĩa', 'nồi cơm điện', 'tàu đổ bộ', 'giày bát kết', 'mắt bồ câu', 'thuỷ lực học', 'tiếng địa phương', 'đới địa lí', 'quân tình nguyện', 'tử vì đạo', 'thuyết duy thực', 'địa chất học', 'ngậm bồ hòn', 'keo tai tượng', 'công nghệ xanh', 'hệ thống hoá', 'nhiệt hoá học', 'dân tộc học', 'biểu thống kê', 'ác cái là', 'may công nghiệp', 'thượng nghị sĩ', 'lý liệu pháp', 'thước tỉ lệ', 'bình luận viên', 'van an toàn', 'vẹc bông lau', 'vật tự nó', 'điện tâm đồ', 'phương pháp luận', 'chính trị viên', 'vệ quốc quân', 'tập thể hoá', 'cháu đích tôn', 'kim chỉ nam', 'phản ánh luận', 'sách công cụ', 'vườn bách thảo', 'phản khoa học', 'khô không khốc', 'vi sinh vật', 'tranh thuỷ mạc', 'thoát y vũ', 'sâu cuốn lá', 'hạt cơ bản', 'logic hình thức', 'mỹ nhân kế', 'hình cầu phân', 'thành uỷ viên', 'tâm lí học', 'thuế môn bài', 'chồng chưa cưới', 'trường đoản cú', 'phân vi sinh', 'chiêu đãi viên', 'kính thiên văn', 'bóng nửa tối', 'nhà văn hoá', 'ngồi chồm hỗm', 'công nghệ học', 'ma cà bông', 'vô giá trị', 'rát ràn rạt', 'thư lưu ký', 'tiểu đoàn trưởng', 'hình chóp cụt', 'hạ nghị sĩ', 'điều kiện cần', 'tàu há mồm', 'hắt xì hơi', 'không tài gì', 'loại hình học', 'tuốt tuồn tuột', 'máy gia tốc', 'tàu con thoi', 'vô tuyến điện', 'chậm rì rì', 'cài răng lược', 'lử cò bợ', 'nhạc thính phòng', 'bộ nhớ ngoài', 'đại hội đồng', 'điện hoá học', 'độc thần luận', 'chung chăn gối', 'đội quân nhạc', 'thứ dân viện', 'bánh đậu xanh', 'bóng thám không', 'cổ động viên', 'thuyết nhị nguyên', 'hiện tượng học', 'dạ tổ ong', 'cây lương thực', 'vô thời hạn', 'ghe bản lồng', 'cơ chừng này', 'phim tài liệu', 'công tử bột', 'phi hành đoàn', 'tam thập lục', 'siêu người mẫu', 'thuốc trừ sâu', 'tiểu thuỷ nông', 'chi uỷ viên', 'cây hoa màu', 'lỗ châu mai', 'nhân chủng học', 'hoá mĩ phẩm', 'hình học phẳng', 'rau khủ khởi', 'kị binh bay', 'bán sơn địa', 'ngang cành bứa', 'ô tô con', 'thực tập sinh', 'ngựa bất kham', 'hồng huyết cầu', 'xe cút kít', 'cờ chân chó', 'bom lân tinh', 'tiên sư cha', 'thuyết nhất thần', 'bạch cương tàm', 'quạt tai voi', 'bao cao su', 'bé hạt tiêu', 'thống kê học', 'gan cóc tía', 'dửng dừng dưng', 'luật hình sự', 'tiểu thủ công', 'tiểu tuần hoàn', 'chua me đất', 'phim thời sự', 'phân tâm học', 'cây lấy dầu', 'đông bán cầu', 'vô nhân đạo', 'tờ mờ đất', 'giao thông tĩnh', 'giờ hoàng đạo', 'đèn cảm ứng', 'đèn hoa kỳ', 'siêu tự nhiên', 'thái cực quyền', 'đạo Cao Đài', 'chuối rẻ quạt', 'kín như bưng', 'thẻ thanh toán', 'huyện uỷ viên', 'câm như hến', 'cây nông nghiệp', 'bùa cứu mạng', 'bệnh lý học', 'nổi đình đám', 'lung tung beng', 'con chiên ghẻ', 'sinh thực khí', 'kính hiển vi', 'bạch mao căn', 'nhất thể hoá', 'chính trị học', 'đường phân giác', 'bia đỡ đạn', 'ruộng bậc thang', 'trắng phau phau', 'hoá sinh học', 'logic biện chứng', 'cây phủ đất', 'Ấn Độ giáo', 'thực vật học', 'Thiên Chúa giáo', 'giá treo cổ', 'to tổ bố', 'chạy việt dã', 'bán trả dần', 'thư điện tử', 'luyện kim màu', 'kênh truyền hình', 'kim loại màu', 'chủ nghĩa Sion', 'bình thông nhau', 'kĩ thuật số', 'chiến tranh nóng', 'hái ra tiền', 'tổng khởi nghĩa', 'khỏi phải nói', 'nhiệt độ Celsius', 'cánh tay đòn', 'hình không gian', 'súng phun lửa', 'địa lý học', 'phép đối xứng', 'đài phát thanh', 'vốn điều lệ', 'bạch huyết cầu', 'Cơ Đốc giáo', 'sinh hoá học', 'mẹ đỡ đầu', 'bào chế học', 'đá nam châm', 'đánh vỗ mặt', 'tiểu quy mô', 'vô tội vạ', 'tít mù tắp', 'bản ghi nhớ', 'không bờ bến', 'phản tuyên truyền', 'máy công cụ', 'quĩ tiết kiệm', 'quyền công dân', 'địa chấn học', 'thẩm mỹ viện', 'thuyết đa nguyên', 'hết chỗ nói', 'chim cánh cụt', 'buồn rười rượi', 'sổ thiên tào', 'kim loại học', 'hình lăng trụ', 'kinh tế học', 'cảng hàng không', 'vi khí hậu', 'cây ăn quả', 'ăn trả bữa', 'ong bò vẽ', 'tranh hoành tráng', 'vi điện tử', 'cơm bình dân', 'tiểu công nghiệp', 'tổ đổi công', 'tháng âm lịch', 'xã hội đen', 'khách vãng lai', 'số vô tỉ', 'diệp lục tố', 'toán kinh tế', 'nhất nguyên luận', 'người quản lí', 'hoa mép dê', 'từ đồng âm', 'vô kì hạn', 'thời khoá biểu', 'gõ đầu trẻ', 'phép siêu hình', 'bom bươm bướm', 'tội gì mà', 'vú cao su', 'vợ chưa cưới', 'vô căn cứ', 'đậu Hà Lan', 'hướng dẫn viên', 'kí âm pháp', 'sử quân tử', 'bừa chữ nhi', 'phó tiến sĩ', 'mặt chữ điền', 'tỷ lệ thuận', 'hợp thức hoá', 'ngồi bó giò', 'sinh lí học', 'bất động sản', 'béo nung núc', 'cà độc dược', 'cao ban long', 'điện trở suất', 'có máu mặt', 'trang thiết bị', 'nam cực quyền', 'luật quốc tế', 'đại bản doanh', 'duyên kì ngộ', 'mô hình hoá', 'tam giác vuông', 'còn phải nói', 'phòng thí nghiệm', 'tổng lãnh sự', 'cu gầm ghì', 'ốc bươu vàng', 'mũ chào mào', 'đa thần luận', 'cây thân gỗ', 'chủ nghĩa Marx-Lenin', 'bi hài kịch', 'thước đo góc', 'hệ sinh thái', 'chè đậu đãi', 'thì chớ kể', 'bán hoá giá', 'mũ bịt tai', 'sinh lý học', 'đường đồng mức', 'nước mắm nhỉ', 'đại tuần hoàn', 'trắng lôm lốp', 'lưỡi không xương', 'quá đi chứ', 'khốn một nỗi', 'đa phương tiện', 'cá bống mú', 'tên cúng cơm', 'tổng bí thư', 'vốn cố định', 'nam bán cầu', 'gà hoa mơ', 'đánh hào ngầm', 'tiểu tư sản', 'hoa đồng tiền', 'đàn tơ rưng', 'nhất thần giáo', 'âm vị học', 'dầy cồm cộp', 'kìm cộng lực', 'công ti con', 'hướng đạo sinh', 'rẻ như bèo', 'lưỡi dao cạo', 'cây lau nhà', 'đấu giao hữu', 'giám đốc thẩm', 'cúc vạn thọ', 'trình dược viên', 'áo năm thân', 'trắc bách diệp', 'đơn bản vị', 'áo cánh tiên', 'khoáng vật học', 'ngựa phản chủ', 'quốc tế hoá', 'Tết Nguyên Đán', 'múa sư tử', 'hoành cách mô', 'hoa lá cành', 'mặt tròn xoay', 'bở hơi tai', 'bom từ trường', 'rét nàng Bân', 'nóng hôi hổi', 'bằng sáng chế', 'cân tự động', 'mặt đối mặt', 'kí túc xá', 'chúa sơn lâm', 'trân châu lùn', 'bạch đầu quân', 'bom khinh khí', 'đài khí tượng', 'bất khả thi', 'nguyên động lực', 'danh từ chung', 'địa vật lí', 'vòi hoa sen', 'dây nối đất', 'cung văn hoá', 'kim loại đen', 'nguyên vật liệu', 'nghiên cứu viên', 'thuyết luân hồi', 'tinh thể lỏng', 'phi hành gia', 'thuyết tương đối', 'máy thu hình', 'bệnh thời khí', 'bạch đậu khấu', 'bồ công anh', 'khít khìn khịt', 'bào tử nang', 'cổ tiền học', 'hợp tác hoá', 'thi vấn đáp', 'sinh hoạt phí', 'tiếng mẹ đẻ', 'đại gia súc', 'tranh tứ bình', 'thuyết bất biến', 'thủ vĩ ngâm', 'số thập phân', 'từ kiêng kị', 'tập đoàn quân', 'nhà vệ sinh', 'im thin thít', 'công viên nước', 'tập hợp con', 'vườn bách thú', 'điện từ trường', 'đại qui mô', 'bất phương trình', 'tóc rễ tre', 'không biết chừng', 'trại tập trung', 'chung quy lại', 'hà thủ ô', 'lý sự cùn', 'hươu cao cổ', 'vô ý thức', 'tham mưu trưởng', 'chuyển động quay', 'định mệnh luận', 'hằng đẳng thức', 'đèn điện tử', 'rối bòng bong', 'phim hoạt hoạ', 'tiền khởi nghĩa', 'số bị trừ', 'điện tử học', 'phân vô cơ', 'dạ lý hương', 'nhà kinh doanh', 'Thái Dương Hệ', 'nhiệt đới hoá', 'phòng thường trực', 'cười sằng sặc', 'hình tròn xoay', 'xe cải tiến', 'nói trắng ra', 'mưa bóng mây', 'hò mái đẩy', 'nhà tình nghĩa', 'cổ lai hy', 'bái vật giáo', 'tổng liên đoàn', 'cứ cho là', 'vận động viên', 'ngẩn tò te', 'tiến hoá luận', 'bánh trung thu', 'bản mạch chủ', 'than tổ ong', 'giờ chính thức', 'tranh sơn dầu', 'khái quát hoá', 'số hữu tỉ', 'bói đâu ra', 'bệnh lí học', 'góc kề bù', 'mồ hôi muối', 'đánh thọc sâu', 'tổng sản lượng', 'nổi tam bành', 'tình báo viên', 'thuốc sát trùng', 'gọn thon lỏn', 'chất xúc tác', 'trại mồ côi', 'công nông nghiệp', 'bất ổn định', 'sáng bảnh mắt', 'đại đoàn kết', 'râu quai nón', 'đường cao tốc', 'toà giám mục', 'bất hợp lệ', 'năm ánh sáng', 'văn bản học', 'gạch chịu lửa', 'ăn báo hại', 'dày cồm cộp', 'chánh văn phòng', 'a ma tơ', 'tuyến thượng thận', 'tư hữu hoá', 'nón quai thao', 'cam tẩu mã', 'đa xử lí', 'gái bán hoa', 'cá rô phi', 'ngay lập tức', 'điều tra viên', 'mục đích luận', 'bo mạch chủ', 'trụi thui lủi', 'chim thằng chài', 'hợp lí hoá', 'mát rười rượi', 'công binh xưởng', 'nhà tạo mẫu', 'chầu ông vải', 'sinh vật học', 'cấp số nhân', 'báo vụ viên', 'cháo lá đa', 'ước số chung', 'xuồng ba lá', 'đèn ba cực', 'lá cờ đầu', 'chất hữu cơ', 'cầy móc cua', 'thuyết tự sinh', 'thầy địa lí', 'bóng bầu dục', 'dạ múi khế', 'dấu gạch ngang', 'hình bầu dục', 'công đoàn vàng', 'thẻ ghi nợ', 'đa chương trình', 'bộ bánh cóc', 'đi chăng nữa', 'đậu phụ nhự', 'mũ lưỡi trai', 'đi đằng đầu', 'giáo dục học', 'trọc lông lốc', 'cây công nghiệp', 'phân loại học', 'tàu tuần dương', 'văn hoá phẩm', 'chính thức hoá', 'xếp bằng tròn', 'gia đình trị', 'nội địa hoá', 'người quản lý', 'bệnh tâm thần', 'súng cao su', 'dây thép gai', 'xuất phát điểm', 'phản tác dụng', 'vành đai trắng', 'bán thành phẩm', 'chữ thập đỏ', 'nhà xuất bản', 'pháo cao xạ', 'mập ú ù', 'cưới chạy tang', 'máy phát điện', 'đại gia đình', 'cân tiểu ly', 'nón bài thơ', 'đánh bò cạp', 'ba lăng nhăng', 'âm cơ bản', 'quốc vụ khanh', 'hiệp định khung', 'vô kỳ hạn', 'bần cố nông', 'đường đoản trình', 'ý chí luận', 'đánh du kích', 'dấu chấm hỏi', 'kinh độ đông', 'bóng bán dẫn', 'số nguyên tố', 'một lá mầm', 'khu tự trị', 'cá lưỡng tiêm', 'phản cách mạng', 'ướt rườn rượt', 'chạy đằng trời', 'bất bạo động', 'tỷ lệ nghịch', 'máy điện tim', 'thìa cà phê', 'sốt xuất huyết', 'đỏ quành quạch', 'quyết tâm thư', 'kim tự tháp', 'gỏi sinh cầm', 'thổ nhưỡng học', 'lộn tùng phèo', 'kĩ thuật viên', 'chim phường chèo', 'vải giả da', 'chầu Diêm Vương', 'thư tín dụng', 'sờ lên gáy', 'ô tô buýt', 'nửa chừng xuân', 'huyết áp cao', 'gió heo may', 'bần cùng hoá', 'ban giám hiệu', 'ngồi bó gối', 'phương diện quân', 'anh chị em', 'đánh trống lảng', 'thực tại ảo', 'bắn tốc độ', 'tổng động viên', 'chủ nghĩa dada', 'đới địa lý', 'xương quai xanh', 'ký sinh trùng', 'chả giò rế', 'máy nhắn tin', 'đen trùi trũi', 'cỏ roi ngựa', 'chim báo bão', 'đất cát pha', 'nhân sinh quan', 'qui hoạch vùng', 'đĩa quang học', 'hoá mỹ phẩm', 'cao độ kế', 'cầu hàng không', 'già khú đế', 'chè móc câu', 'đài thiên văn', 'sao Bắc Đẩu', 'cuộn thứ cấp', 'hợp tác xã', 'tủ chữa cháy', 'đường trung bình', 'nuôi báo cô', 'từ trái nghĩa', 'dao động đồ', 'trống hông hốc', 'tái sản xuất', 'chết đầu nước', 'vô thần luận', 'khu đô thị', 'cá thờn bơn', 'luật hành chính', 'bạn trăm năm', 'thảm thực vật', 'bắt đầu từ', 'cầu truyền hình', 'hình thái học', 'trợ động từ', 'mã tiên thảo', 'trừu tượng hoá', 'Tết dương lịch', 'thi trắc nghiệm', 'cựu chiến binh', 'cha đỡ đầu', 'giày mõm nhái', 'dé chân chèo', 'côn trùng học', 'bán phá giá', 'điện từ học', 'bộ xử lý', 'bản thể luận', 'đèn hoa kì', 'tú lơ khơ', 'cổ lỗ sĩ', 'tơ hoá học', 'vật lý học', 'giáp lá cà', 'gà công nghiệp', 'cửa lá sách', 'lạy cả nón', 'thể nhiễm sắc', 'cá bạc má', 'dầu con hổ', 'đánh trống lấp', 'băng thông rộng', 'khổ nhục kế', 'người phát ngôn', 'khổ sâm nam', 'giương mắt ếch', 'đạo Tin Lành', 'phân hữu cơ', 'hợp pháp hoá', 'đại gian ác', 'nhạc đồng quê', 'bom nguyên tử', 'giấy bao gói', 'ròng rọc kép', 'hệ miễn nhiễm', 'cá thia lia', 'mít tố nữ', 'kính đổi màu', 'thép hợp kim', 'ổ đề kháng', 'vi xử lí', 'trung bình nhân', 'hai lá mầm', 'chính quy hoá', 'đầu mục từ', 'hét ra lửa', 'địa mạo học', 'điều khiển học', 'công thương nghiệp', 'xuất nhập cảnh', 'cộng tác viên', 'suy dinh dưỡng', 'huyết áp thấp', 'đêm trừ tịch', 'đơn giản hoá', 'giấy thông hành', 'lưu học sinh', 'khủng bố trắng', 'tỉnh như không', 'bộ xử lí', 'đoàn chủ tịch', 'sao Bắc Cực', 'ăn báo cô', 'chung qui lại', 'biệt động quân', 'bỏ ngoài tai', 'bóng điện tử', 'nguyên tử số', 'dạ dày tuyến', 'cánh kiến đỏ', 'kinh tuyến gốc', 'tổng hành dinh', 'thuyết biến hình', 'khoáng sàng học', 'tuyến nội tiết', 'thuộc nằm lòng', 'hăng tiết vịt', 'đa thần giáo', 'múa rối nước', 'chất vô cơ', 'tự nhiên học', 'ngọc lan tây', 'bảng cửu chương', 'con nhà lành', 'lười chảy thây', 'giấy bóng kính', 'chợ lao động', 'tre đằng ngà', 'tươi hơn hớn', 'lo sốt vó', 'vô kỷ luật', 'phép kéo theo', 'vô kỉ luật', 'bách khoa thư', 'tính nhân dân', 'dấu gạch nối', 'tranh khắc gỗ', 'di truyền học', 'thuỷ văn học', 'nội tiết tố', 'nhà ổ chuột', 'im phăng phắc', 'tỷ lệ thức', 'công nghiệp nhẹ', 'ma ăn cỗ', 'thư lưu kí', 'bộ chỉ huy', 'đông nghìn nghịt', 'bánh ú tro', 'lời nói đầu', 'đậu dải áo', 'phản giáo dục', 'cầu thăng bằng', 'thơ liên hoàn', 'thuế gián thu', 'xì căng đan', 'bán đấu giá', 'xem tử vi', 'phim truyền hình', 'vô trách nhiệm', 'tâm thần học', 'đồng tác giả', 'tây bán cầu', 'chuyên môn hoá', 'tam giác cầu', 'lí liệu pháp', 'chè hoa cau', 'thơm phưng phức', 'đánh tiêu hao', 'vi xử lý', 'tôm càng xanh', 'quốc tế ngữ', 'sao Hải Vương', 'tự phục vụ', 'kiểm toán viên', 'điện khí hoá', 'cặp bài trùng', 'định lí đảo', 'ngồi dãi thẻ', 'kí sinh trùng', 'nói tóm lại', 'ngôn ngữ máy', 'cá lờn bơn', 'chưa biết chừng', 'ngón áp út'}\n"
     ]
    }
   ],
   "source": [
    "bi_gram = load_n_gram(os.path.join(corpus_path, bi_gram_path))\n",
    "tri_gram = load_n_gram(os.path.join(corpus_path, tri_gram_path))"
   ]
  },
  {
   "cell_type": "code",
   "execution_count": 15,
   "metadata": {},
   "outputs": [
    {
     "name": "stdout",
     "output_type": "stream",
     "text": [
      "2-gram:  22705 & 3-gram:  1907\n"
     ]
    }
   ],
   "source": [
    "print ('2-gram: ', len(bi_gram), '& 3-gram: ', len(tri_gram))"
   ]
  },
  {
   "cell_type": "code",
   "execution_count": 16,
   "metadata": {},
   "outputs": [
    {
     "name": "stdout",
     "output_type": "stream",
     "text": [
      "['Hôm', '197', 'nhiều', 'độc', 'giả', 'cảnh', 'báo', 'nhau', 'trên', 'mạng', 'về', 'một', 'loại', 'virus', 'máy', 'tính', 'phát', 'tán', 'qua', 'tin', 'giả', 'Mr', 'Bean', 'Rowan', 'Atkinson', 'qua', 'đời', 'mạo', 'danh', 'Fox', 'News', 'Thông', 'tin', 'lan', 'truyền', 'cách', 'đây', 'ít', 'phút', 'trên', 'mạng', 'xã', 'hội', 'Theo', 'trang', 'SDE', 'các', 'đối', 'tượng', 'phát', 'tán', 'những', 'bài', 'đăng', 'giả', 'trên', 'mạng', 'xã', 'hội', 'với', 'hình', 'thức', 'như', 'một', 'đường', 'link', 'tin', 'tức', 'tiêu', 'đề', 'là', 'Tin', 'nóng', 'của', 'Fox', 'News', 'Mr', 'Bean', 'Rowan', 'Atkinson', 'vừa', 'qua', 'đời', 'ở', 'tuổi', '62', 'sau', 'một', 'vụ', 'đâm', 'xe', 'trong', 'lúc', 'đóng', 'cảnh', 'hành', 'động', 'mạo', 'hiểm', 'Hôm', 'nay', 'tháng', '72017', 'Tung', 'tin', 'Mr', 'Bean', 'qua', 'doi', 'de', 'phat', 'tan', 'virus', 'doc', 'hai', 'hinh', 'anh', '1', 'Tin', 'cải', 'chính', 'về', 'cái', 'chết', 'của', 'Rowan', 'Atkinson', 'được', 'đưa', 'ra', 'kịp', 'thời', 'để', 'bảo', 'vệ', 'người', 'dùng', 'khỏi', 'virus', 'Ảnh', 'Chronicle', 'Live', 'Vì', 'gắn', 'với', 'một', 'cơ', 'quan', 'truyền', 'thông', 'lớn', 'là', 'Fox', 'News', 'nên', 'mẩu', 'tin', 'dễ', 'dàng', 'thu', 'hút', 'sự', 'chú', 'ý', 'và', 'tin', 'cậy', 'của', 'độc', 'giả', 'dù', 'thông', 'tin', 'ngày', 'tháng', 'bị', 'sai', 'lệch', 'Trang', 'SDE', 'cảnh', 'báo', 'bất', 'cứ', 'độc', 'giả', 'nào', 'nhìn', 'thấy', 'đường', 'link', 'chứa', 'thông', 'tin', 'này', 'không', 'được', 'bấm', 'vào', 'vì', 'thực', 'chất', 'đó', 'là', 'một', 'virus', 'đội', 'lốt', 'Đường', 'link', 'sẽ', 'dẫn', 'thẳng', 'đến', 'một', 'trang', 'web', 'lừa', 'đảo', 'và', 'mã', 'độc', 'nhảy', 'vào', 'máy', 'tính', 'của', 'người', 'truy', 'cập', 'Đây', 'không', 'phải', 'lần', 'đầu', 'tiên', 'Rowan', 'Atkinson', 'trở', 'thành', 'nạn', 'nhân', 'của', 'tin', 'đồn', 'qua', 'đời', 'Trước', 'đây', 'vào', 'năm', '2016', 'và', 'tháng', '3', 'năm', 'nay', 'từng', 'có', 'một', 'loạt', 'bài', 'thất', 'thiệt', 'khẳng', 'định', 'tài', 'tử', 'Johnny', 'English', 'đã', 'tử', 'vong', 'trong', 'một', 'tai', 'nạn', 'xe', 'ở', 'Los', 'Angeles', 'Thông', 'tin', 'về', 'các', 'ngôi', 'sao', 'qua', 'đời', 'cũng', 'thường', 'xuyên', 'được', 'làm', 'giả', 'để', 'lan', 'truyền', 'virus', 'độc', 'hại', 'Trang', 'web', 'Hoax', 'Slayer', 'đã', 'thống', 'kê', 'hầu', 'hết', 'trường', 'hợp', 'tương', 'tự', 'để', 'cảnh', 'báo', 'độc', 'giả', 'Tung', 'tin', 'Mr', 'Bean', 'qua', 'doi', 'de', 'phat', 'tan', 'virus', 'doc', 'hai', 'hinh', 'anh', '2', 'Rất', 'nhiều', 'người', 'nổi', 'tiếng', 'bị', 'kẻ', 'gian', 'tung', 'tin', 'qua', 'đời', 'vì', 'mục', 'đích', 'xấu', 'Ảnh', 'CNN', 'Những', 'tin', 'giả', 'này', 'thường', 'dẫn', 'người', 'dùng', 'đến', 'các', 'trang', 'web', 'cảnh', 'báo', 'máy', 'tính', 'đã', 'bị', 'xâm', 'nhập', 'và', 'yêu', 'cầu', 'người', 'dùng', 'gọi', 'đến', 'số', 'điện', 'thoại', 'hỗ', 'trợ', 'Nhưng', 'khi', 'họ', 'gọi', 'đến', 'những', 'kẻ', 'lừa', 'đảo', 'sẽ', 'thu', 'thập', 'thông', 'tin', 'tài', 'khoản', 'ngân', 'hàng', 'của', 'họ', 'với', 'mục', 'đích', 'thanh', 'toán', 'tiền', 'sửa', 'chữa', 'máy', 'tính', 'hoặc', 'tải', 'phần', 'mềm', 'bảo', 'vệ', 'máy', 'Thực', 'chất', 'đó', 'là', 'các', 'phần', 'mềm', 'kiểm', 'soát', 'máy', 'tính', 'và', 'ăn', 'cắp', 'dữ', 'liệu', 'cài', 'mã', 'độc', 'từ', 'xa']\n"
     ]
    }
   ],
   "source": [
    "text = ud.normalize('NFC', preproc_news.loc[0].text)\n",
    "word = \"\\w+\"\n",
    "token = re.findall(word, text, re.UNICODE)\n",
    "print(token)"
   ]
  },
  {
   "cell_type": "markdown",
   "metadata": {},
   "source": [
    "Thử nghiệm chính của _LongestMatching_. Tham khảo chủ yếu từ: [ core_nlp/tokenization/dict_models.py](https://github.com/deepai-solutions/core_nlp/blob/master/tokenization/dict_models.py)"
   ]
  },
  {
   "cell_type": "code",
   "execution_count": 17,
   "metadata": {},
   "outputs": [],
   "source": [
    "def LongestMatching(token, bi_gram, tri_gram):\n",
    "    token_len = len(token)\n",
    "#     print(token_len)\n",
    "    cur_id = 0\n",
    "    \n",
    "    word_list = []\n",
    "    \n",
    "    done = False\n",
    "    \n",
    "    while (cur_id < token_len) and (not done):\n",
    "        cur_word = token[cur_id]\n",
    "        if(cur_id >= token_len - 1):\n",
    "            word_list.append(cur_word)\n",
    "            done = True\n",
    "#             print(cur_id)\n",
    "        else:\n",
    "            next_word = token[cur_id + 1]\n",
    "            bi_word = \" \".join([cur_word.lower(), next_word.lower()])\n",
    "#             print(bi_word)\n",
    "            if(cur_id >= token_len - 2):\n",
    "                    if bi_word in bi_gram:\n",
    "                        word_list.append(\"_\".join([cur_word, next_word]))\n",
    "                        cur_id  = cur_id + 2\n",
    "                    else: \n",
    "                        word_list.append(cur_word)\n",
    "                        cur_id  = cur_id + 1\n",
    "                        \n",
    "            else: \n",
    "                next_next_word = token[cur_id + 2]\n",
    "                tri_word = \" \".join([bi_word, next_next_word.lower()])\n",
    "                if tri_word in tri_gram:\n",
    "                    word_list.append(\"_\".join([cur_word, next_word, next_next_word]))\n",
    "                    cur_id  = cur_id + 3\n",
    "#                     print(tri_word)\n",
    "                elif bi_word in bi_gram:\n",
    "                    word_list.append(\"_\".join([cur_word, next_word]))\n",
    "                    cur_id = cur_id + 2\n",
    "#                     print(bi_word)\n",
    "                else:\n",
    "                    word_list.append(cur_word)\n",
    "                    cur_id = cur_id + 1\n",
    "    return word_list"
   ]
  },
  {
   "cell_type": "markdown",
   "metadata": {},
   "source": [
    "_text_\\__tokenize_ là bộ dữ liệu sau khi đã tách các từ thành các token và có thể đưa vào mô hình train"
   ]
  },
  {
   "cell_type": "code",
   "execution_count": 18,
   "metadata": {},
   "outputs": [
    {
     "name": "stdout",
     "output_type": "stream",
     "text": [
      "Hôm 197 nhiều độc_giả cảnh_báo nhau trên mạng về một loại virus máy_tính phát_tán qua tin giả Mr Bean Rowan Atkinson qua_đời mạo_danh Fox News Thông_tin lan_truyền cách đây ít phút trên mạng xã_hội Theo trang SDE các đối_tượng phát_tán những bài đăng giả trên mạng xã_hội với hình_thức như một đường link tin_tức tiêu_đề là Tin nóng của Fox News Mr Bean Rowan Atkinson vừa_qua đời ở tuổi 62 sau một vụ đâm xe trong lúc đóng cảnh hành_động mạo_hiểm Hôm_nay tháng 72017 Tung tin Mr Bean qua doi de phat tan virus doc hai hinh anh 1 Tin cải_chính về cái chết của Rowan Atkinson được đưa ra kịp_thời để bảo_vệ người dùng khỏi virus Ảnh Chronicle Live Vì gắn với một cơ_quan truyền_thông lớn là Fox News nên mẩu tin dễ_dàng thu_hút sự chú_ý và tin_cậy của_độc giả dù thông_tin ngày_tháng bị sai_lệch Trang SDE cảnh_báo bất_cứ độc_giả nào nhìn thấy đường link chứa thông_tin này không được bấm vào vì thực_chất đó là một virus đội_lốt Đường link sẽ dẫn thẳng đến một trang_web lừa_đảo và mã độc nhảy vào máy_tính của người truy_cập Đây không phải lần đầu_tiên Rowan Atkinson trở_thành nạn_nhân của tin_đồn qua_đời Trước đây vào năm 2016 và tháng 3 năm nay từng có một loạt bài thất_thiệt khẳng_định tài_tử Johnny English đã tử_vong trong một tai_nạn xe ở Los Angeles Thông_tin về các ngôi_sao qua_đời cũng thường_xuyên được làm giả để lan_truyền virus độc_hại Trang_web Hoax Slayer đã thống_kê hầu_hết trường_hợp tương_tự để cảnh_báo độc_giả Tung tin Mr Bean qua doi de phat tan virus doc hai hinh anh 2 Rất nhiều người nổi_tiếng bị kẻ_gian tung tin qua_đời vì mục_đích xấu Ảnh CNN Những tin giả này thường dẫn người dùng đến các trang_web cảnh_báo máy_tính đã bị xâm_nhập và yêu_cầu người dùng gọi đến số điện_thoại hỗ_trợ Nhưng khi họ gọi đến những kẻ lừa_đảo sẽ thu_thập thông_tin tài_khoản ngân_hàng của họ với mục_đích thanh_toán tiền sửa_chữa máy_tính hoặc tải phần_mềm bảo_vệ máy Thực_chất đó là các phần_mềm kiểm_soát máy_tính và ăn_cắp dữ_liệu cài mã độc từ xa\n"
     ]
    }
   ],
   "source": [
    "text_tokenize = LongestMatching(token, bi_gram, tri_gram)\n",
    "text_for_train = \" \".join(text_tokenize)\n",
    "print(text_for_train)"
   ]
  },
  {
   "cell_type": "markdown",
   "metadata": {},
   "source": [
    "### 2.2 Loại Stopword "
   ]
  },
  {
   "cell_type": "markdown",
   "metadata": {},
   "source": [
    "Load stopword đưa vào 1 sets. Sau đó trên các từ vừa được đưa vào thành token, ta loại bỏ các stopwords"
   ]
  },
  {
   "cell_type": "code",
   "execution_count": 58,
   "metadata": {},
   "outputs": [],
   "source": [
    "def load_stop_word(stop_word_path):\n",
    "    words = set()\n",
    "    with open(stop_word_path, encoding='utf-8') as file:\n",
    "        for line in file:\n",
    "            li=line.strip()\n",
    "            if not li.startswith(\"#\"):\n",
    "                words.add(line.rstrip())\n",
    "                \n",
    "    return words"
   ]
  },
  {
   "cell_type": "code",
   "execution_count": 60,
   "metadata": {},
   "outputs": [
    {
     "name": "stdout",
     "output_type": "stream",
     "text": [
      "75\n"
     ]
    }
   ],
   "source": [
    "stopword_file = \"Stopwords_vi.txt\"\n",
    "stopwords = load_stop_word(os.path.join(corpus_path, stopword_file))\n",
    "print(len(stopwords))"
   ]
  },
  {
   "cell_type": "markdown",
   "metadata": {},
   "source": [
    "Bắt đầu loại bỏ stopword trên dữ liệu"
   ]
  },
  {
   "cell_type": "code",
   "execution_count": 63,
   "metadata": {},
   "outputs": [],
   "source": [
    "def remove_stopwords(paragraph, stopwords):\n",
    "    new_para = []\n",
    "    for word in paragraph:\n",
    "        if not word in stopwords:\n",
    "            new_para.append(word)\n",
    "    return new_para"
   ]
  },
  {
   "cell_type": "markdown",
   "metadata": {},
   "source": [
    "Đoạn sau khi loại bỏ stopword"
   ]
  },
  {
   "cell_type": "code",
   "execution_count": 64,
   "metadata": {},
   "outputs": [
    {
     "name": "stdout",
     "output_type": "stream",
     "text": [
      "['Hôm', '197', 'độc_giả', 'cảnh_báo', 'nhau', 'mạng', 'về', 'một', 'loại', 'virus', 'máy_tính', 'phát_tán', 'tin', 'giả', 'Mr', 'Bean', 'Rowan', 'Atkinson', 'qua_đời', 'mạo_danh', 'Fox', 'News', 'Thông_tin', 'lan_truyền', 'cách', 'ít', 'phút', 'mạng', 'xã_hội', 'Theo', 'trang', 'SDE', 'đối_tượng', 'phát_tán', 'bài', 'đăng', 'giả', 'mạng', 'xã_hội', 'hình_thức', 'một', 'đường', 'link', 'tin_tức', 'tiêu_đề', 'Tin', 'nóng', 'Fox', 'News', 'Mr', 'Bean', 'Rowan', 'Atkinson', 'vừa_qua', 'đời', 'ở', 'tuổi', '62', 'một', 'vụ', 'đâm', 'xe', 'trong', 'đóng', 'cảnh', 'hành_động', 'mạo_hiểm', 'Hôm_nay', 'tháng', '72017', 'Tung', 'tin', 'Mr', 'Bean', 'doi', 'de', 'phat', 'tan', 'virus', 'doc', 'hai', 'hinh', 'anh', '1', 'Tin', 'cải_chính', 'về', 'chết', 'Rowan', 'Atkinson', 'đưa', 'kịp_thời', 'bảo_vệ', 'người', 'dùng', 'khỏi', 'virus', 'Ảnh', 'Chronicle', 'Live', 'Vì', 'gắn', 'một', 'cơ_quan', 'truyền_thông', 'lớn', 'Fox', 'News', 'mẩu', 'tin', 'dễ_dàng', 'thu_hút', 'chú_ý', 'tin_cậy', 'của_độc', 'giả', 'dù', 'thông_tin', 'ngày_tháng', 'sai_lệch', 'Trang', 'SDE', 'cảnh_báo', 'bất_cứ', 'độc_giả', 'nào', 'nhìn', 'thấy', 'đường', 'link', 'chứa', 'thông_tin', 'bấm', 'thực_chất', 'một', 'virus', 'đội_lốt', 'Đường', 'link', 'dẫn', 'thẳng', 'đến', 'một', 'trang_web', 'lừa_đảo', 'mã', 'độc', 'nhảy', 'máy_tính', 'người', 'truy_cập', 'Đây', 'lần', 'đầu_tiên', 'Rowan', 'Atkinson', 'trở_thành', 'nạn_nhân', 'tin_đồn', 'qua_đời', 'Trước', 'năm', '2016', 'tháng', '3', 'năm', 'nay', 'một', 'loạt', 'bài', 'thất_thiệt', 'khẳng_định', 'tài_tử', 'Johnny', 'English', 'tử_vong', 'trong', 'một', 'tai_nạn', 'xe', 'ở', 'Los', 'Angeles', 'Thông_tin', 'về', 'ngôi_sao', 'qua_đời', 'thường_xuyên', 'làm', 'giả', 'lan_truyền', 'virus', 'độc_hại', 'Trang_web', 'Hoax', 'Slayer', 'thống_kê', 'hầu_hết', 'trường_hợp', 'tương_tự', 'cảnh_báo', 'độc_giả', 'Tung', 'tin', 'Mr', 'Bean', 'doi', 'de', 'phat', 'tan', 'virus', 'doc', 'hai', 'hinh', 'anh', '2', 'Rất', 'người', 'nổi_tiếng', 'kẻ_gian', 'tung', 'tin', 'qua_đời', 'mục_đích', 'xấu', 'Ảnh', 'CNN', 'Những', 'tin', 'giả', 'thường', 'dẫn', 'người', 'dùng', 'đến', 'trang_web', 'cảnh_báo', 'máy_tính', 'xâm_nhập', 'yêu_cầu', 'người', 'dùng', 'gọi', 'đến', 'số', 'điện_thoại', 'hỗ_trợ', 'Nhưng', 'họ', 'gọi', 'đến', 'kẻ', 'lừa_đảo', 'thu_thập', 'thông_tin', 'tài_khoản', 'ngân_hàng', 'họ', 'mục_đích', 'thanh_toán', 'tiền', 'sửa_chữa', 'máy_tính', 'hoặc', 'tải', 'phần_mềm', 'bảo_vệ', 'máy', 'Thực_chất', 'phần_mềm', 'kiểm_soát', 'máy_tính', 'ăn_cắp', 'dữ_liệu', 'cài', 'mã', 'độc', 'xa']\n"
     ]
    }
   ],
   "source": [
    "new_para = remove_stopwords(text_tokenize, stopwords)\n",
    "print(new_para)"
   ]
  },
  {
   "cell_type": "markdown",
   "metadata": {},
   "source": [
    "## 3. Đưa vào Model Naive-Bayesian"
   ]
  },
  {
   "cell_type": "markdown",
   "metadata": {},
   "source": [
    "Biểu diễn Bag-of-word"
   ]
  }
 ],
 "metadata": {
  "kernelspec": {
   "display_name": "Python 3",
   "language": "python",
   "name": "python3"
  },
  "language_info": {
   "codemirror_mode": {
    "name": "ipython",
    "version": 3
   },
   "file_extension": ".py",
   "mimetype": "text/x-python",
   "name": "python",
   "nbconvert_exporter": "python",
   "pygments_lexer": "ipython3",
   "version": "3.7.0"
  }
 },
 "nbformat": 4,
 "nbformat_minor": 2
}
