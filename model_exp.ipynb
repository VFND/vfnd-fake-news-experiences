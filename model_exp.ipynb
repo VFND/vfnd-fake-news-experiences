{
 "cells": [
  {
   "cell_type": "code",
   "execution_count": 11,
   "metadata": {},
   "outputs": [],
   "source": [
    "from sklearn.externals import joblib\n",
    "import os\n",
    "import numpy as np\n",
    "\n",
    "from text_preprocessing import text_preprocessing"
   ]
  },
  {
   "cell_type": "code",
   "execution_count": 2,
   "metadata": {},
   "outputs": [],
   "source": [
    "models_path = './Models/'\n",
    "\n",
    "nb_text_1 = 'MultiNB_clf_1.sav'\n",
    "nb_text_2 = 'MultiNB_clf_2.sav'\n",
    "svm_text = 'SVM_clf_1.sav'\n",
    "\n",
    "nb_textdomain_1 = 'MultiNB_clf_textdomain_1.sav'\n",
    "nb_textdomain_2 = 'MultiNB_clf_textdomain_2.sav'\n",
    "svm_textdomain = 'SVM_clf_2.sav'"
   ]
  },
  {
   "cell_type": "markdown",
   "metadata": {},
   "source": [
    "## Text model dạng text"
   ]
  },
  {
   "cell_type": "code",
   "execution_count": 3,
   "metadata": {},
   "outputs": [],
   "source": [
    "text = 'CEO Facebook Việt Nam Lê Diệp Kiều Trang cho biết, hiện Ban giám đốc Facebook đang hoàn tất các thủ tục pháp lý để chuẩn bị thành lập văn phòng đại diện tại Việt Nam. Trước đó, tuy Facebook có một bộ phận quản lý Facebook người Việt dành riêng cho thị trường Việt Nam nhưng lại đóng tại trụ sở ở Singapore. Thì nay, việc chuyển văn phòng về Việt Nam sẽ giúp hỗ trợ tốt hơn cho các hoạt động của Facebook tại Việt Nam. Đặc biệt là các hoạt động kinh doanh quảng cáo và hỗ trợ doanh nghiệp, start-up Việt.'"
   ]
  },
  {
   "cell_type": "code",
   "execution_count": 4,
   "metadata": {},
   "outputs": [],
   "source": [
    "model1 = joblib.load(os.path.join(models_path, nb_text_1))"
   ]
  },
  {
   "cell_type": "code",
   "execution_count": 5,
   "metadata": {},
   "outputs": [
    {
     "name": "stdout",
     "output_type": "stream",
     "text": [
      "ceo facebook việt nam lê diệp kiều trang cho_biết , hiện ban giám_đốc facebook hoàn_tất thủ_tục pháp_lý chuẩn_bị thành_lập văn_phòng đại_diện việt nam. trước , tuy facebook có_một bộ_phận quản_lý facebook người việt dành_riêng thị_trường việt nam đóng trụ_sở ở singapore. thì nay , chuyển văn_phòng về việt nam giúp hỗ_trợ tốt hơn hoạt_động facebook việt nam. đặc_biệt hoạt_động kinh_doanh quảng_cáo hỗ_trợ doanh_nghiệp , start - up việt .\n"
     ]
    }
   ],
   "source": [
    "test_1_data = text_preprocessing(text)\n",
    "print(test_1_data)"
   ]
  },
  {
   "cell_type": "code",
   "execution_count": 9,
   "metadata": {},
   "outputs": [
    {
     "name": "stdout",
     "output_type": "stream",
     "text": [
      "[[0.50408251 0.49591749]]\n"
     ]
    }
   ],
   "source": [
    "text_test_1 = model1.predict_proba([test_1_data])\n",
    "print(text_test_1)"
   ]
  },
  {
   "cell_type": "code",
   "execution_count": 25,
   "metadata": {},
   "outputs": [
    {
     "name": "stdout",
     "output_type": "stream",
     "text": [
      "['a320' 'a321' 'a653' ... 'ứng_dụng' 'ứng_phó' 'ứng_viên']\n",
      "[1909 6962  733 ... 5463 5464    0]\n",
      "['facebook' 'việt' 'cho' 'trợ' 'hoạt' 'nam' 'tại' 'động' 'lý' 'các']\n"
     ]
    }
   ],
   "source": [
    "# print(model1.get_params()['tfidfvec'])\n",
    "# top_key_word_1 = model1([test_1_data])\n",
    "feature_array = np.array(model1.get_params()['tfidfvec'].get_feature_names())\n",
    "print(feature_array)\n",
    "response = model1.get_params()['tfidfvec'].transform([text])\n",
    "tfidf_sorting = np.argsort(response.toarray()).flatten()[::-1]\n",
    "\n",
    "\n",
    "print(tfidf_sorting)\n",
    "\n",
    "top_n = feature_array[tfidf_sorting][:10]\n",
    "print(top_n)"
   ]
  },
  {
   "cell_type": "code",
   "execution_count": null,
   "metadata": {},
   "outputs": [],
   "source": []
  }
 ],
 "metadata": {
  "kernelspec": {
   "display_name": "Python 3",
   "language": "python",
   "name": "python3"
  },
  "language_info": {
   "codemirror_mode": {
    "name": "ipython",
    "version": 3
   },
   "file_extension": ".py",
   "mimetype": "text/x-python",
   "name": "python",
   "nbconvert_exporter": "python",
   "pygments_lexer": "ipython3",
   "version": "3.7.0"
  }
 },
 "nbformat": 4,
 "nbformat_minor": 2
}
