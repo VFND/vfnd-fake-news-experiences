{
 "cells": [
  {
   "cell_type": "markdown",
   "metadata": {},
   "source": [
    "# News Preprocessing - Load dữ liệu từ các file CSV"
   ]
  },
  {
   "cell_type": "markdown",
   "metadata": {},
   "source": []
  },
  {
   "cell_type": "code",
   "execution_count": 19,
   "metadata": {},
   "outputs": [],
   "source": [
    "import json, os, ast, re, sys\n",
    "import csv\n",
    "import unicodedata as ud\n",
    "\n",
    "from text_utils import remove_stopwords\n",
    "from utils import load_n_gram, load_stopwords"
   ]
  },
  {
   "cell_type": "markdown",
   "metadata": {},
   "source": []
  },
  {
   "cell_type": "code",
   "execution_count": 20,
   "metadata": {},
   "outputs": [],
   "source": [
    "data_path = './Data/'\n",
    "\n",
    "csv_text_label_226 = 'vn_news_226_tlfr.csv'"
   ]
  },
  {
   "cell_type": "markdown",
   "metadata": {},
   "source": []
  },
  {
   "cell_type": "code",
   "execution_count": 25,
   "metadata": {},
   "outputs": [],
   "source": [
    "def token_sylabling(text):\n",
    "    \n",
    "    text = ud.normalize('NFC', text)\n",
    "    \n",
    "    sign = ['==>', '=>', '->', '\\.\\.\\.', '>>']\n",
    "    digits = '\\d+([\\.,_]\\d+)+'\n",
    "    email = '(^[a-zA-Z0-9_.+-]+@[a-zA-Z0-9-]+\\.[a-zA-Z0-9-.]+$)'\n",
    "    web = '^(http[s]?://)?(?:[a-zA-Z]|[0-9]|[$-_@.&+]|[!*\\(\\),]|(?:%[0-9a-fA-F][0-9a-fA-F]))+$'\n",
    "    datetime = [\n",
    "        '\\d{1,2}\\/\\d{1,2}(\\/\\d+)?',\n",
    "        '\\d{1,2}-\\d{1,2}(-\\d+)?',\n",
    "    ]\n",
    "    word = '\\w+'\n",
    "    non_word = '[^\\w\\s]'\n",
    "    abbreviations = [\n",
    "        '[A-ZĐ]+\\.',\n",
    "        'Tp\\.',\n",
    "        'Mr\\.', 'Mrs\\.', 'Ms\\.',\n",
    "        'Dr\\.', 'ThS\\.'\n",
    "    ]\n",
    "    \n",
    "    patterns = []\n",
    "    patterns.extend([web, email])\n",
    "    patterns.extend(abbreviations)\n",
    "    patterns.extend(sign)    \n",
    "    patterns.extend(datetime)\n",
    "    patterns.extend([digits, non_word, word])\n",
    "    patterns = '(' + '|'.join(patterns) + ')'\n",
    "    \n",
    "    if sys.version_info < (3, 0):\n",
    "            patterns = patterns.decode('utf-8')\n",
    "    tokens = re.findall(patterns, text, re.UNICODE)\n",
    "    return [token[0] for token in tokens]"
   ]
  },
  {
   "cell_type": "markdown",
   "metadata": {},
   "source": [
    "## Thử nghiệm"
   ]
  },
  {
   "cell_type": "code",
   "execution_count": 28,
   "metadata": {},
   "outputs": [
    {
     "name": "stdout",
     "output_type": "stream",
     "text": [
      "['ngày', '21/11/2018', ',', 'Đây', 'là', 'game', 'GARRY', \"'\", 'S', 'MOD', '==>', '=>', 'chơi', 'trên', 'kênh', 'Trực', 'Tiếp', 'Game', 'của', 'tôi', '-', 'Dũng', 'CT.', 'tp', '.', 'HCM', ',', 'TP.', 'HCM', 'Rất', 'mong', 'nhận', 'được', 'sự', 'ủng', 'hộ', 'của', 'ae', '.', '+', '+', 'Đăng', 'ký', 'theo', 'dõi', 'kênh', 'tại', 'đây', ':', 'https', ':', '/', '/', 'goo', '.', 'gl', '/', 'A7BCZV', '+', '+', 'LINK', 'TẢI', 'APP', 'CUBETV', ':', 'https', ':', '/', '/', 'www', '.', 'cubetv', '.', 'sg', '+', '+', 'THEO', 'DÕI', 'TTG', 'TRÊN', 'CUBETV', ':', 'http', ':', '/', '/', 'www', '.', 'cubetv', '.', 'sg', '/', '18947372', '+', '+', 'DONATE', 'ĐỂ', 'TTG', 'MUA', 'ĐƯỢC', 'NHIỀU', 'GAME', 'HƠN', 'TẠI', ':', '-', 'https', ':', '/', '/', 'playerduo', '.', 'com', '/', 'tructiepgame', '-', 'https', ':', '/', '/', 'streamlabs', '.', 'com', '/', 'tructiepgamevn', '+', '+', 'MUA', '/', 'THUÊ', 'GAME', 'BẢN', 'QUYỀN', 'GIÁ', 'RẺ', 'TẠI', ':', 'Website', ':', 'http', ':', '/', '/', 'divineshop', '.', 'vn', 'Fanpage', ':', 'https', ':', '/', '/', 'www', '.', 'facebook', '.', 'com', '/', 'Divine', '.', 'Shop', '...', '.']\n"
     ]
    }
   ],
   "source": [
    "text = \"ngày 21/11/2018, Đây là game GARRY'S MOD ==> => chơi trên kênh Trực Tiếp Game của tôi - Dũng CT. tp.HCM, TP.HCM Rất mong nhận được sự ủng hộ của ae. ++ Đăng ký theo dõi kênh tại đây: https://goo.gl/A7BCZV ++ LINK TẢI APP CUBETV: https://www.cubetv.sg ++ THEO DÕI TTG TRÊN CUBETV: http://www.cubetv.sg/18947372 ++ DONATE ĐỂ TTG MUA ĐƯỢC NHIỀU GAME HƠN TẠI: - https://playerduo.com/tructiepgame - https://streamlabs.com/tructiepgamevn ++ MUA/THUÊ GAME BẢN QUYỀN GIÁ RẺ TẠI: Website: http://divineshop.vn Fanpage: https://www.facebook.com/Divine.Shop....\"\n",
    "token = token_sylabling(text)\n",
    "print(token)"
   ]
  },
  {
   "cell_type": "code",
   "execution_count": null,
   "metadata": {},
   "outputs": [],
   "source": []
  }
 ],
 "metadata": {
  "kernelspec": {
   "display_name": "Python 3",
   "language": "python",
   "name": "python3"
  },
  "language_info": {
   "codemirror_mode": {
    "name": "ipython",
    "version": 3
   },
   "file_extension": ".py",
   "mimetype": "text/x-python",
   "name": "python",
   "nbconvert_exporter": "python",
   "pygments_lexer": "ipython3",
   "version": "3.7.0"
  }
 },
 "nbformat": 4,
 "nbformat_minor": 2
}
