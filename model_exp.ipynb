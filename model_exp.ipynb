{
 "cells": [
  {
   "cell_type": "code",
   "execution_count": 1,
   "metadata": {},
   "outputs": [],
   "source": [
    "from sklearn.externals import joblib\n",
    "import os\n",
    "import numpy as np\n",
    "import pandas as pd\n",
    "from sklearn.feature_extraction.text import TfidfVectorizer\n",
    "from text_preprocessing import text_preprocessing\n",
    "from get_keywords import get_topn_keywords_model"
   ]
  },
  {
   "cell_type": "code",
   "execution_count": 2,
   "metadata": {},
   "outputs": [],
   "source": [
    "models_path = './Models/'\n",
    "\n",
    "nb_text_1 = 'MultiNB_clf_1.sav'\n",
    "nb_text_2 = 'MultiNB_clf_2.sav'\n",
    "svm_text = 'SVM_clf_1.sav'\n",
    "\n",
    "nb_textdomain_1 = 'MultiNB_clf_textdomain_1.sav'\n",
    "nb_textdomain_2 = 'MultiNB_clf_textdomain_2.sav'\n",
    "svm_textdomain = 'SVM_clf_2.sav'"
   ]
  },
  {
   "cell_type": "markdown",
   "metadata": {},
   "source": [
    "## Text model dạng text"
   ]
  },
  {
   "cell_type": "code",
   "execution_count": 3,
   "metadata": {},
   "outputs": [],
   "source": [
    "text = 'CEO Facebook Việt Nam Lê Diệp Kiều Trang cho biết, hiện Ban giám đốc Facebook đang hoàn tất các thủ tục pháp lý để chuẩn bị thành lập văn phòng đại diện tại Việt Nam. Trước đó, tuy Facebook có một bộ phận quản lý Facebook người Việt dành riêng cho thị trường Việt Nam nhưng lại đóng tại trụ sở ở Singapore. Thì nay, việc chuyển văn phòng về Việt Nam sẽ giúp hỗ trợ tốt hơn cho các hoạt động của Facebook tại Việt Nam. Đặc biệt là các hoạt động kinh doanh quảng cáo và hỗ trợ doanh nghiệp, start-up Việt.'"
   ]
  },
  {
   "cell_type": "code",
   "execution_count": 4,
   "metadata": {},
   "outputs": [],
   "source": [
    "model1 = joblib.load(os.path.join(models_path, nb_text_2))"
   ]
  },
  {
   "cell_type": "code",
   "execution_count": 5,
   "metadata": {
    "scrolled": true
   },
   "outputs": [
    {
     "name": "stdout",
     "output_type": "stream",
     "text": [
      "ceo facebook việt_nam lê diệp kiều trang cho_biết hiện ban giám_đốc facebook hoàn_tất thủ_tục pháp_lý chuẩn_bị thành_lập văn_phòng đại_diện việt trước tuy facebook có_một bộ_phận quản_lý facebook người việt dành_riêng thị_trường việt_nam đóng trụ_sở ở thì nay chuyển văn_phòng về việt_nam giúp hỗ_trợ tốt hơn hoạt_động facebook việt đặc_biệt hoạt_động kinh_doanh quảng_cáo hỗ_trợ doanh_nghiệp start up việt\n"
     ]
    }
   ],
   "source": [
    "test_1_data = text_preprocessing(text)\n",
    "print(test_1_data)"
   ]
  },
  {
   "cell_type": "code",
   "execution_count": 6,
   "metadata": {},
   "outputs": [
    {
     "name": "stdout",
     "output_type": "stream",
     "text": [
      "[[4.86594110e-06 9.99995134e-01]]\n",
      "['1']\n"
     ]
    }
   ],
   "source": [
    "text_test_1 = model1.predict_proba([test_1_data])\n",
    "text_test_2 = model1.predict([test_1_data])\n",
    "print(text_test_1)\n",
    "print(text_test_2)"
   ]
  },
  {
   "cell_type": "code",
   "execution_count": 8,
   "metadata": {
    "scrolled": true
   },
   "outputs": [
    {
     "name": "stdout",
     "output_type": "stream",
     "text": [
      "['a320' 'a320 số_hiệu' 'a321' ... 'ứng_viên khác' 'ứng_viên trúng_cử'\n",
      " 'ứng_viên tổng_thống']\n",
      "[11305 43421 44258 ... 34584 34583     0]\n",
      "['facebook' 'việt' 'văn_phòng' 'việt_nam' 'hỗ_trợ' 'hoạt_động' 'pháp_lý'\n",
      " 'lê diệp' 'bộ_phận quản_lý' 'văn_phòng về']\n"
     ]
    }
   ],
   "source": [
    "# print(model1.get_params()['tfidfvec'])\n",
    "# top_key_word_1 = model1([test_1_data])\n",
    "feature_array = np.array(model1.get_params()['tfidfvect'].get_feature_names())\n",
    "print(feature_array)\n",
    "response = model1.get_params()['tfidfvect'].transform([test_1_data])\n",
    "tfidf_sorting = np.argsort(response.toarray()).flatten()[::-1]\n",
    "\n",
    "\n",
    "print(tfidf_sorting)\n",
    "\n",
    "top_n = feature_array[tfidf_sorting][:10]\n",
    "print(top_n)"
   ]
  },
  {
   "cell_type": "code",
   "execution_count": 9,
   "metadata": {
    "scrolled": true
   },
   "outputs": [
    {
     "data": {
      "text/plain": [
       "array(['facebook', 'việt', 'văn_phòng', 'việt_nam', 'hỗ_trợ', 'hoạt_động',\n",
       "       'pháp_lý', 'lê diệp', 'bộ_phận quản_lý', 'văn_phòng về',\n",
       "       'quảng_cáo hỗ_trợ', 'đại_diện việt', 'pháp_lý chuẩn_bị',\n",
       "       'doanh_nghiệp start', 'chuẩn_bị thành_lập'], dtype='<U33')"
      ]
     },
     "execution_count": 9,
     "metadata": {},
     "output_type": "execute_result"
    }
   ],
   "source": [
    "get_topn_keywords_model(test_1_data, model1, 15)"
   ]
  },
  {
   "cell_type": "markdown",
   "metadata": {},
   "source": [
    "### Giả sử: \n",
    "lớp TFIDFvectorize trong Pipeline có tên 'tfidfvect', text đã preprocessing, topn phải là số nguyên"
   ]
  },
  {
   "cell_type": "code",
   "execution_count": 10,
   "metadata": {},
   "outputs": [],
   "source": [
    "def get_topn_keywords(text, model, topn):\n",
    "    feature_array = np.array(model.get_params()['tfidfvect'].get_feature_names())\n",
    "    response = model.get_params()['tfidfvect'].transform([text])\n",
    "    tfidf_sorting = np.argsort(response.toarray()).flatten()[::-1]\n",
    "    top_n = feature_array[tfidf_sorting][:topn]\n",
    "    return top_n"
   ]
  },
  {
   "cell_type": "code",
   "execution_count": 11,
   "metadata": {},
   "outputs": [],
   "source": [
    "tf_idf_keyword = TfidfVectorizer()"
   ]
  },
  {
   "cell_type": "code",
   "execution_count": 12,
   "metadata": {},
   "outputs": [],
   "source": [
    "preproc_path = './PreprocessingData'\n",
    "data2_path = 'preproc_vn_news_223_tdlfr.csv'\n",
    "news_data2 = pd.read_csv(os.path.join(preproc_path, data2_path))\n",
    "X_news_data2 = news_data2.drop('label', axis=1)\n",
    "for index in range(list(X_news_data2.shape)[0]):\n",
    "    news = X_news_data2.iat[index, 0]\n",
    "    X_news_data2.iat[index, 0] = text_preprocessing(news)"
   ]
  },
  {
   "cell_type": "code",
   "execution_count": 13,
   "metadata": {},
   "outputs": [
    {
     "data": {
      "text/plain": [
       "<223x8948 sparse matrix of type '<class 'numpy.float64'>'\n",
       "\twith 39961 stored elements in Compressed Sparse Row format>"
      ]
     },
     "execution_count": 13,
     "metadata": {},
     "output_type": "execute_result"
    }
   ],
   "source": [
    "tf_idf_keyword.fit_transform(X_news_data2['text'])"
   ]
  },
  {
   "cell_type": "code",
   "execution_count": 14,
   "metadata": {},
   "outputs": [
    {
     "data": {
      "text/plain": [
       "<1x8948 sparse matrix of type '<class 'numpy.float64'>'\n",
       "\twith 67 stored elements in Compressed Sparse Row format>"
      ]
     },
     "execution_count": 14,
     "metadata": {},
     "output_type": "execute_result"
    }
   ],
   "source": [
    "tf_idf_keyword.transform([text])"
   ]
  },
  {
   "cell_type": "code",
   "execution_count": null,
   "metadata": {},
   "outputs": [],
   "source": []
  }
 ],
 "metadata": {
  "kernelspec": {
   "display_name": "Python 3",
   "language": "python",
   "name": "python3"
  },
  "language_info": {
   "codemirror_mode": {
    "name": "ipython",
    "version": 3
   },
   "file_extension": ".py",
   "mimetype": "text/x-python",
   "name": "python",
   "nbconvert_exporter": "python",
   "pygments_lexer": "ipython3",
   "version": "3.7.0"
  }
 },
 "nbformat": 4,
 "nbformat_minor": 2
}
