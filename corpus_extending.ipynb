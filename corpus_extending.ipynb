{
 "cells": [
  {
   "cell_type": "markdown",
   "metadata": {},
   "source": [
    "# Mở rộng từ điển\n",
    "Mở rộng bộ từ điển từ 2 bộ: \n",
    "1. [http://www.informatik.uni-leipzig.de/~duc/Dict](http://www.informatik.uni-leipzig.de/~duc/Dict/install.html)\n",
    "2. [core_nlp](https://github.com/deepai-solutions/core_nlp)"
   ]
  },
  {
   "cell_type": "code",
   "execution_count": 1,
   "metadata": {},
   "outputs": [],
   "source": [
    "import json, os, ast"
   ]
  },
  {
   "cell_type": "code",
   "execution_count": 2,
   "metadata": {},
   "outputs": [],
   "source": [
    "corpus_path = './corpus'\n",
    "bi_gram_path = 'bi_gram.txt'\n",
    "tri_gram_path = 'tri_gram.txt'\n",
    "\n",
    "extended1 = 'vv30K.txt'\n",
    "extended2 = 'va.txt'\n",
    "extended3 = 'vf.txt'\n",
    "extended4 = 'vg.txt'"
   ]
  },
  {
   "cell_type": "code",
   "execution_count": 3,
   "metadata": {},
   "outputs": [],
   "source": [
    "def load_dictionary(dict_path):\n",
    "    with open(dict_path, encoding='utf-8') as file:\n",
    "        return list(line.strip() for line in file)"
   ]
  },
  {
   "cell_type": "code",
   "execution_count": 4,
   "metadata": {},
   "outputs": [],
   "source": [
    "def load_n_gram(file_path):\n",
    "    with open(file_path, encoding='utf-8') as n_gram:\n",
    "        words = n_gram.read()\n",
    "        words = ast.literal_eval(words)\n",
    "        return words"
   ]
  },
  {
   "cell_type": "code",
   "execution_count": 5,
   "metadata": {},
   "outputs": [],
   "source": [
    "def extend_cur_dict(extended_set):\n",
    "    for word in extended_set:\n",
    "        if(word.count(' ') == 1 and not word.istitle()):\n",
    "            if(not word.lower() in bi_gram and not word.lower() in bi_gram_extended):\n",
    "                bi_gram_extended.add(word)\n",
    "        elif(word.count(' ') == 2 and not word.istitle()):\n",
    "            if(not word.lower() in tri_gram and not word.lower() in tri_gram_extended):\n",
    "                tri_gram_extended.add(word)\n",
    "        elif(word.count(' ') == 3 and not word.lower() in four_gram_extended):\n",
    "            four_gram_extended.add(word)"
   ]
  },
  {
   "cell_type": "code",
   "execution_count": 6,
   "metadata": {},
   "outputs": [],
   "source": [
    "bi_gram = load_n_gram(os.path.join(corpus_path, bi_gram_path))\n",
    "tri_gram = load_n_gram(os.path.join(corpus_path, tri_gram_path))"
   ]
  },
  {
   "cell_type": "code",
   "execution_count": 7,
   "metadata": {},
   "outputs": [],
   "source": [
    "extended1_set = load_dictionary(os.path.join(corpus_path, extended1))\n",
    "extended2_set = load_dictionary(os.path.join(corpus_path, extended2))\n",
    "extended3_set = load_dictionary(os.path.join(corpus_path, extended3))\n",
    "extended4_set = load_dictionary(os.path.join(corpus_path, extended4))"
   ]
  },
  {
   "cell_type": "markdown",
   "metadata": {},
   "source": [
    "Kiểm tra các từ trong các list có trong set() hay không"
   ]
  },
  {
   "cell_type": "code",
   "execution_count": 8,
   "metadata": {},
   "outputs": [
    {
     "name": "stdout",
     "output_type": "stream",
     "text": [
      "True\n"
     ]
    }
   ],
   "source": [
    "print(extended1_set[6].istitle())\n",
    "\n",
    "bi_gram_extended = set()\n",
    "tri_gram_extended = set()\n",
    "four_gram_extended = set()"
   ]
  },
  {
   "cell_type": "code",
   "execution_count": 9,
   "metadata": {},
   "outputs": [],
   "source": [
    "for word in extended1_set:\n",
    "    if(word.count(' ') == 1 and not word.istitle()):\n",
    "        if(not word.lower() in bi_gram):\n",
    "            bi_gram_extended.add(word)\n",
    "    elif(word.count(' ') == 2 and not word.istitle()):\n",
    "        if(not word.lower() in tri_gram):\n",
    "            tri_gram_extended.add(word)\n",
    "    elif(word.count(' ') == 3):\n",
    "        four_gram_extended.add(word)"
   ]
  },
  {
   "cell_type": "code",
   "execution_count": 10,
   "metadata": {},
   "outputs": [
    {
     "name": "stdout",
     "output_type": "stream",
     "text": [
      "7132\n",
      "516\n",
      "583\n"
     ]
    }
   ],
   "source": [
    "print(len(bi_gram_extended))\n",
    "print(len(tri_gram_extended))\n",
    "print(len(four_gram_extended))"
   ]
  },
  {
   "cell_type": "code",
   "execution_count": 11,
   "metadata": {},
   "outputs": [],
   "source": [
    "extend_cur_dict(extended2_set)"
   ]
  },
  {
   "cell_type": "code",
   "execution_count": 12,
   "metadata": {},
   "outputs": [
    {
     "name": "stdout",
     "output_type": "stream",
     "text": [
      "10379\n",
      "831\n",
      "687\n"
     ]
    }
   ],
   "source": [
    "print(len(bi_gram_extended))\n",
    "print(len(tri_gram_extended))\n",
    "print(len(four_gram_extended))"
   ]
  },
  {
   "cell_type": "code",
   "execution_count": 13,
   "metadata": {},
   "outputs": [],
   "source": [
    "extend_cur_dict(extended3_set)"
   ]
  },
  {
   "cell_type": "code",
   "execution_count": 14,
   "metadata": {},
   "outputs": [
    {
     "name": "stdout",
     "output_type": "stream",
     "text": [
      "17549\n",
      "1787\n",
      "868\n"
     ]
    }
   ],
   "source": [
    "print(len(bi_gram_extended))\n",
    "print(len(tri_gram_extended))\n",
    "print(len(four_gram_extended))"
   ]
  },
  {
   "cell_type": "code",
   "execution_count": 15,
   "metadata": {},
   "outputs": [],
   "source": [
    "extend_cur_dict(extended3_set)"
   ]
  },
  {
   "cell_type": "code",
   "execution_count": 16,
   "metadata": {},
   "outputs": [
    {
     "name": "stdout",
     "output_type": "stream",
     "text": [
      "17549\n",
      "1787\n",
      "868\n"
     ]
    }
   ],
   "source": [
    "print(len(bi_gram_extended))\n",
    "print(len(tri_gram_extended))\n",
    "print(len(four_gram_extended))"
   ]
  },
  {
   "cell_type": "code",
   "execution_count": 17,
   "metadata": {},
   "outputs": [],
   "source": [
    "new_bi_gram = bi_gram_extended.union(bi_gram)\n",
    "new_tri_gram = tri_gram_extended.union(tri_gram)\n",
    "new_four_gram = four_gram_extended"
   ]
  },
  {
   "cell_type": "code",
   "execution_count": 18,
   "metadata": {},
   "outputs": [
    {
     "name": "stdout",
     "output_type": "stream",
     "text": [
      "40240\n",
      "3692\n"
     ]
    }
   ],
   "source": [
    "print(len(new_bi_gram))\n",
    "print(len(new_tri_gram))"
   ]
  },
  {
   "cell_type": "code",
   "execution_count": 19,
   "metadata": {},
   "outputs": [],
   "source": [
    "def write_n_gram(file, n_gram):\n",
    "    with open(file, 'w') as f:\n",
    "        for item in n_gram:\n",
    "            f.write(\"%s\\n\" % item)"
   ]
  },
  {
   "cell_type": "code",
   "execution_count": 20,
   "metadata": {},
   "outputs": [],
   "source": [
    "write_n_gram(os.path.join(corpus_path, 'new_bi_gram.txt'), new_bi_gram)\n",
    "write_n_gram(os.path.join(corpus_path, 'new_tri_gram.txt'), new_tri_gram)\n",
    "write_n_gram(os.path.join(corpus_path, 'new_four_gram.txt'), new_four_gram)"
   ]
  }
 ],
 "metadata": {
  "kernelspec": {
   "display_name": "Python 3",
   "language": "python",
   "name": "python3"
  },
  "language_info": {
   "codemirror_mode": {
    "name": "ipython",
    "version": 3
   },
   "file_extension": ".py",
   "mimetype": "text/x-python",
   "name": "python",
   "nbconvert_exporter": "python",
   "pygments_lexer": "ipython3",
   "version": "3.7.0"
  }
 },
 "nbformat": 4,
 "nbformat_minor": 2
}
