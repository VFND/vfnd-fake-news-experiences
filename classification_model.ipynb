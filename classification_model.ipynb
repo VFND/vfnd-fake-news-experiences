{
 "cells": [
  {
   "cell_type": "markdown",
   "metadata": {},
   "source": [
    "# Mô hình nhận diện tin tức giả"
   ]
  },
  {
   "cell_type": "code",
   "execution_count": 1,
   "metadata": {},
   "outputs": [],
   "source": [
    "import os, csv, sys\n",
    "import unicodedata as ud\n",
    "\n",
    "from text_utils import remove_punc, token_sylabling, is_word\n",
    "\n",
    "from sklearn.feature_extraction.text import TfidfVectorizer"
   ]
  },
  {
   "cell_type": "markdown",
   "metadata": {},
   "source": [
    "## 1. Biểu diễn Bag-of-word"
   ]
  },
  {
   "cell_type": "code",
   "execution_count": 3,
   "metadata": {},
   "outputs": [],
   "source": [
    "preproc_path = './PreprocessingData'"
   ]
  },
  {
   "cell_type": "markdown",
   "metadata": {},
   "source": [
    "### 1.1. Data 1:  file ```preproc_vn_news_226_tlfr.csv``` - text & label"
   ]
  },
  {
   "cell_type": "code",
   "execution_count": 4,
   "metadata": {},
   "outputs": [],
   "source": [
    "data1_path = 'preproc_vn_news_226_tlfr.csv'"
   ]
  },
  {
   "cell_type": "markdown",
   "metadata": {},
   "source": [
    "Load data từ file ```preproc_vn_news_226_tlfr.csv``` là các file đã được tiền xử lý, các record trong file đã được xáo trộn lên theo thứ tự ngẫu nhiên"
   ]
  },
  {
   "cell_type": "code",
   "execution_count": 5,
   "metadata": {},
   "outputs": [],
   "source": [
    "news_data1 = []\n",
    "\n",
    "data1_train_text = []\n",
    "data1_train_label = []\n",
    "\n",
    "data1_test_text = []\n",
    "data1_test_label = []"
   ]
  },
  {
   "cell_type": "code",
   "execution_count": 6,
   "metadata": {},
   "outputs": [],
   "source": [
    "with open(os.path.join(preproc_path, data1_path), 'r') as csv_file:\n",
    "    reader = csv.DictReader(csv_file)\n",
    "    news_data1 = list(reader)"
   ]
  },
  {
   "cell_type": "markdown",
   "metadata": {},
   "source": [
    "Tách dữ liệu thành 2 phần: ```Train``` - 181 record & ```Test``` - 45 record"
   ]
  },
  {
   "cell_type": "code",
   "execution_count": 7,
   "metadata": {},
   "outputs": [],
   "source": [
    "train_size = 181\n",
    "\n",
    "news_data1_train = news_data1[:train_size]\n",
    "news_data1_test = news_data1[train_size:]"
   ]
  },
  {
   "cell_type": "markdown",
   "metadata": {},
   "source": [
    "Chuẩn bị dữ liệu: Loại bỏ dấu câu, số, ngày tháng, url... -> Chuyển thành chữ viết thường"
   ]
  },
  {
   "cell_type": "code",
   "execution_count": 8,
   "metadata": {},
   "outputs": [],
   "source": [
    "def data_preparing(text):\n",
    "    text_list = text.lower().split()\n",
    "    new_text = ''\n",
    "    for word in text_list:\n",
    "        if(is_word(word)):\n",
    "            new_text = ' '.join([new_text, word])\n",
    "    return new_text"
   ]
  },
  {
   "cell_type": "markdown",
   "metadata": {},
   "source": [
    "Chuẩn bị dữ liệu train"
   ]
  },
  {
   "cell_type": "code",
   "execution_count": 9,
   "metadata": {},
   "outputs": [],
   "source": [
    "for train in news_data1_train:\n",
    "    data1_train_text.append(data_preparing(train['text']))\n",
    "    data1_train_label.append(train['label'])"
   ]
  },
  {
   "cell_type": "markdown",
   "metadata": {},
   "source": [
    "Chuẩn bị dữ liệu test"
   ]
  },
  {
   "cell_type": "code",
   "execution_count": 10,
   "metadata": {},
   "outputs": [],
   "source": [
    "for test in news_data1_test:\n",
    "    data1_test_text.append(data_preparing(test['text']))\n",
    "    data1_test_label.append(test['label'])"
   ]
  },
  {
   "cell_type": "code",
   "execution_count": 11,
   "metadata": {},
   "outputs": [
    {
     "name": "stdout",
     "output_type": "stream",
     "text": [
      " vũ_khí kết_nối người trẻ tổng_thống indonesia wef asean đón số_lượng kỷ_lục lãnh_đạo quốc_gia trong khu_vực tổng_thống indonesia ăn trưa quốc_vương arab saudi tổng_thống indonesia tiếp quốc_vương arab saudi tháng video tôi ăn trưa quốc_vương salman bin abdulaziz al saud tổng_thống indonesia joko widodo mỉm_cười nhìn camera cầm ông sau_đó hướng camera về phía quốc_vương arab ông ấy bắt_đầu dùng_bữa tổng_thống widodo nói tiếp giải_thích chuyến thăm indonesia cấp nhà_nước đầu_tiên của_ông ông đề_nghị quốc_vương nói vài lời khán_giả đoạn video đăng ngày thu_hút hơn hai triệu lượt đây video lượng xem cao nhất trong số hơn video kênh youtube riêng tổng_thống joko trong_khi hầu_hết video ghi hoạt_động làm_việc hàng_ngày của_ông kênh youtube giúp người indonesia hiểu thêm về cuộc_sống cá_nhân tổng_thống có video thấy ông ăn_thử thức_ăn đường_phố địa_phương quan_chức chơi bắn cung con_trai kể khán_giả về con dê ông nuôi làm thú cưng các video gắn thẻ jkwvlog jokowi vlog giúp khán_giả dễ tìm_kiếm ông widodo người dự diễn_đàn kinh_tế thế_giới về asean wef asean ở việt nam ngày chủ_đề asean tinh_thần doanh_nghiệp cách_mạng công_nghiệp lần thứ hơn người đăng_ký ngoài_ra ông triệu người theo_dõi twitter hơn triệu người thích trang facebook triệu người theo_dõi instagram gấp lần số người theo_dõi instagram thủ_tướng canada justin tổng_thống còn tổ_chức cuộc_thi nhỏ kêu_gọi người theo_dõi đăng video về truyền_thống gia_đình đặc_biệt trong dịp lễ hồi_giáo youtube chia_sẻ đường_dẫn người video sáng_tạo nhất nhận phần_thưởng xe_đạp ông còn giao_lưu người dùng mạng xã_hội bằng cách tổ_chức buổi trả_lời thắc_mắc kênh youtube tổng_thống ảnh chụp màn_hình các nhà phân_tích đánh_giá ông widodo tích_cực sử_dụng mạng xã_hội nhằm tiếp_cận giới trẻ indonesia dân_số trẻ vì_vậy ông tầm_nhìn về cuộc bầu_cử năm thiếu_niên đủ tuổi bỏ_phiếu tobias basuki chuyên_gia trung_tâm nghiên_cứu chiến_lược quốc_tế csis jakarta đánh_giá ông ấy cố_gắng thu_hút học_sinh trung_học đủ_điều kiện bỏ_phiếu năm theo quỹ dân_số liên_hợp quốc hơn triệu người indonesia ở độ tuổi chiếm gần dân_số có ủng_hộ của_công chúng đặc_biệt giới trẻ năng_động nhiệt_tình chắc_chắn lợi_thế chính_trị basuki nói ngay chiến_dịch tranh_cử năm widodo chú_ý đến mạng xã_hội farina situmorang cựu chiến_lược kỹ_thuật_số chiến_dịch tranh_cử cho_biết họ sản_xuất hai loại nội_dung khác_nhau một liên_quan đến ứng_viên tổng_thống gia_đình tức cuộc_sống cá_nhân của_ông loại còn_lại chính_sách widodo được_thể hiện bằng đồ_họa chúng_tôi biết cử_tri lần đầu đi bầu dễ tác_động ý_kiến bạn_bè yếu_tố quyết_định mạng xã_hội bà nói tổng_thống indonesia joko widodo chụp_ảnh người ủng_hộ ảnh tuy_nhiên nhà phân_tích đánh_giá cách tiếp_cận tồn_tại rủi khi tương_tác trực_tiếp tổng_thống nói sai hoặc khiến một_số nhóm người bất_bình đối_thủ chính_trị sử_dụng tấn_công ông ấy đó mối nguy_hiểm chính_trị lớn nhất dù ông widodo tích_cực sử_dụng mạng xã_hội ngày ông đăng video youtube giới_thiệu về đôi giày thể_thao mình tiện_dụng dùng chúng đi thị_sát ở vùng nông_thôn hay hồ chứa trên facebook ông đăng ảnh mình ngồi xem_lễ bế_mạc asiad ngày màn_hình lớn west nusa tenggara cùng_với người sống_sót trận động_đất ở đảo tôi tự_hào indonesia thể_hiện mình một quốc_gia tổ_chức sự_kiện lớn asiad ông viết\n"
     ]
    }
   ],
   "source": [
    "print(data1_train_text[0])"
   ]
  },
  {
   "cell_type": "markdown",
   "metadata": {},
   "source": [
    "Biểu diễn Bag-of-Word cho dữ liệu ```train```"
   ]
  },
  {
   "cell_type": "code",
   "execution_count": 13,
   "metadata": {},
   "outputs": [
    {
     "name": "stdout",
     "output_type": "stream",
     "text": [
      "set()\n",
      "(1, 8208)\n",
      "[[0.         0.         0.         ... 0.         0.         0.03586491]]\n"
     ]
    }
   ],
   "source": [
    "data1_train_tfidf_vectorizer = TfidfVectorizer()\n",
    "data1_train_tfidf_vectorizer.fit(data1_train_text)\n",
    "# summarize\n",
    "# print(data1_train_tfidf_vectorizer.vocabulary_)\n",
    "print(data1_train_tfidf_vectorizer.stop_words_)\n",
    "# encode document\n",
    "vector = data1_train_tfidf_vectorizer.transform([data1_train_text[0]])\n",
    "# summarize encoded vector\n",
    "print(vector.shape)\n",
    "print(vector.toarray())"
   ]
  },
  {
   "cell_type": "code",
   "execution_count": 2,
   "metadata": {},
   "outputs": [
    {
     "name": "stdout",
     "output_type": "stream",
     "text": [
      "False\n"
     ]
    }
   ],
   "source": [
    "print(is_word('1'))"
   ]
  },
  {
   "cell_type": "markdown",
   "metadata": {},
   "source": [
    "## 2. Naive Bayes classification"
   ]
  },
  {
   "cell_type": "markdown",
   "metadata": {},
   "source": [
    "### 2.1. Mô hình cho dữ liệu từ file ```preproc_vn_news_226_tlfr.csv``` - text & label"
   ]
  },
  {
   "cell_type": "code",
   "execution_count": null,
   "metadata": {},
   "outputs": [],
   "source": []
  },
  {
   "cell_type": "markdown",
   "metadata": {},
   "source": [
    "## 3. SVM classification"
   ]
  },
  {
   "cell_type": "code",
   "execution_count": null,
   "metadata": {},
   "outputs": [],
   "source": []
  }
 ],
 "metadata": {
  "kernelspec": {
   "display_name": "Python 3",
   "language": "python",
   "name": "python3"
  },
  "language_info": {
   "codemirror_mode": {
    "name": "ipython",
    "version": 3
   },
   "file_extension": ".py",
   "mimetype": "text/x-python",
   "name": "python",
   "nbconvert_exporter": "python",
   "pygments_lexer": "ipython3",
   "version": "3.7.0"
  }
 },
 "nbformat": 4,
 "nbformat_minor": 2
}
